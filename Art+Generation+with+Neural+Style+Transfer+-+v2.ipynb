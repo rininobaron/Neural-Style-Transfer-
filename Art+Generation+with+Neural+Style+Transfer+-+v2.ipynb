{
 "cells": [
  {
   "cell_type": "markdown",
   "metadata": {
    "colab_type": "text",
    "id": "SqNUmH2fnJyL"
   },
   "source": [
    "# Deep Learning & Art: Neural Style Transfer\n",
    "\n",
    "Welcome to the second assignment of this week. In this assignment, you will learn about Neural Style Transfer. This algorithm was created by Gatys et al. (2015) (https://arxiv.org/abs/1508.06576). \n",
    "\n",
    "**In this assignment, you will:**\n",
    "- Implement the neural style transfer algorithm \n",
    "- Generate novel artistic images using your algorithm \n",
    "\n",
    "Most of the algorithms you've studied optimize a cost function to get a set of parameter values. In Neural Style Transfer, you'll optimize a cost function to get pixel values!"
   ]
  },
  {
   "cell_type": "markdown",
   "metadata": {
    "colab_type": "text",
    "id": "Ssnk0w9Rw9Go"
   },
   "source": [
    "# Definimos nuestra librería nst_utils"
   ]
  },
  {
   "cell_type": "code",
   "execution_count": 0,
   "metadata": {
    "colab": {},
    "colab_type": "code",
    "id": "oOJkqRUOxEE9"
   },
   "outputs": [],
   "source": [
    "### Part of this code is due to the MatConvNet team and is used to load the parameters of the pretrained VGG19 model in the notebook ###\n",
    "\n",
    "import os\n",
    "import sys\n",
    "import scipy.io\n",
    "import scipy.misc\n",
    "import imageio\n",
    "import matplotlib.pyplot as plt\n",
    "from matplotlib.pyplot import imshow\n",
    "from PIL import Image\n",
    "\n",
    "import numpy as np\n",
    "import tensorflow as tf\n",
    "\n",
    "class CONFIG:\n",
    "    IMAGE_WIDTH = 1196\n",
    "    IMAGE_HEIGHT = 1196\n",
    "    COLOR_CHANNELS = 3\n",
    "    NOISE_RATIO = 0.6\n",
    "    MEANS = np.array([123.68, 116.779, 103.939]).reshape((1,1,1,3)) \n",
    "    VGG_MODEL = 'pretrained-model/imagenet-vgg-verydeep-19.mat' # Pick the VGG 19-layer model by from the paper \"Very Deep Convolutional Networks for Large-Scale Image Recognition\".\n",
    "    STYLE_IMAGE = 'images/stone_style.jpg' # Style image to use.\n",
    "    CONTENT_IMAGE = 'images/content300.jpg' # Content image to use.\n",
    "    OUTPUT_DIR = 'output/'\n",
    "    \n",
    "def load_vgg_model(path):\n",
    "    \"\"\"\n",
    "    Returns a model for the purpose of 'painting' the picture.\n",
    "    Takes only the convolution layer weights and wrap using the TensorFlow\n",
    "    Conv2d, Relu and AveragePooling layer. VGG actually uses maxpool but\n",
    "    the paper indicates that using AveragePooling yields better results.\n",
    "    The last few fully connected layers are not used.\n",
    "    Here is the detailed configuration of the VGG model:\n",
    "        0 is conv1_1 (3, 3, 3, 64)\n",
    "        1 is relu\n",
    "        2 is conv1_2 (3, 3, 64, 64)\n",
    "        3 is relu    \n",
    "        4 is maxpool\n",
    "        5 is conv2_1 (3, 3, 64, 128)\n",
    "        6 is relu\n",
    "        7 is conv2_2 (3, 3, 128, 128)\n",
    "        8 is relu\n",
    "        9 is maxpool\n",
    "        10 is conv3_1 (3, 3, 128, 256)\n",
    "        11 is relu\n",
    "        12 is conv3_2 (3, 3, 256, 256)\n",
    "        13 is relu\n",
    "        14 is conv3_3 (3, 3, 256, 256)\n",
    "        15 is relu\n",
    "        16 is conv3_4 (3, 3, 256, 256)\n",
    "        17 is relu\n",
    "        18 is maxpool\n",
    "        19 is conv4_1 (3, 3, 256, 512)\n",
    "        20 is relu\n",
    "        21 is conv4_2 (3, 3, 512, 512)\n",
    "        22 is relu\n",
    "        23 is conv4_3 (3, 3, 512, 512)\n",
    "        24 is relu\n",
    "        25 is conv4_4 (3, 3, 512, 512)\n",
    "        26 is relu\n",
    "        27 is maxpool\n",
    "        28 is conv5_1 (3, 3, 512, 512)\n",
    "        29 is relu\n",
    "        30 is conv5_2 (3, 3, 512, 512)\n",
    "        31 is relu\n",
    "        32 is conv5_3 (3, 3, 512, 512)\n",
    "        33 is relu\n",
    "        34 is conv5_4 (3, 3, 512, 512)\n",
    "        35 is relu\n",
    "        36 is maxpool\n",
    "        37 is fullyconnected (7, 7, 512, 4096)\n",
    "        38 is relu\n",
    "        39 is fullyconnected (1, 1, 4096, 4096)\n",
    "        40 is relu\n",
    "        41 is fullyconnected (1, 1, 4096, 1000)\n",
    "        42 is softmax\n",
    "    \"\"\"\n",
    "    \n",
    "    vgg = scipy.io.loadmat(path)\n",
    "\n",
    "    vgg_layers = vgg['layers']\n",
    "    \n",
    "    def _weights(layer, expected_layer_name):\n",
    "        \"\"\"\n",
    "        Return the weights and bias from the VGG model for a given layer.\n",
    "        \"\"\"\n",
    "        wb = vgg_layers[0][layer][0][0][2]\n",
    "        W = wb[0][0]\n",
    "        b = wb[0][1]\n",
    "        layer_name = vgg_layers[0][layer][0][0][0][0]\n",
    "        assert layer_name == expected_layer_name\n",
    "        return W, b\n",
    "\n",
    "        return W, b\n",
    "\n",
    "    def _relu(conv2d_layer):\n",
    "        \"\"\"\n",
    "        Return the RELU function wrapped over a TensorFlow layer. Expects a\n",
    "        Conv2d layer input.\n",
    "        \"\"\"\n",
    "        return tf.nn.relu(conv2d_layer)\n",
    "\n",
    "    def _conv2d(prev_layer, layer, layer_name):\n",
    "        \"\"\"\n",
    "        Return the Conv2D layer using the weights, biases from the VGG\n",
    "        model at 'layer'.\n",
    "        \"\"\"\n",
    "        W, b = _weights(layer, layer_name)\n",
    "        W = tf.constant(W)\n",
    "        b = tf.constant(np.reshape(b, (b.size)))\n",
    "        return tf.nn.conv2d(prev_layer, filter=W, strides=[1, 1, 1, 1], padding='SAME') + b\n",
    "\n",
    "    def _conv2d_relu(prev_layer, layer, layer_name):\n",
    "        \"\"\"\n",
    "        Return the Conv2D + RELU layer using the weights, biases from the VGG\n",
    "        model at 'layer'.\n",
    "        \"\"\"\n",
    "        return _relu(_conv2d(prev_layer, layer, layer_name))\n",
    "\n",
    "    def _avgpool(prev_layer):\n",
    "        \"\"\"\n",
    "        Return the AveragePooling layer.\n",
    "        \"\"\"\n",
    "        return tf.nn.avg_pool(prev_layer, ksize=[1, 2, 2, 1], strides=[1, 2, 2, 1], padding='SAME')\n",
    "\n",
    "    # Constructs the graph model.\n",
    "    graph = {}\n",
    "    graph['input']   = tf.Variable(np.zeros((1, CONFIG.IMAGE_HEIGHT, CONFIG.IMAGE_WIDTH, CONFIG.COLOR_CHANNELS)), dtype = 'float32')\n",
    "    graph['conv1_1']  = _conv2d_relu(graph['input'], 0, 'conv1_1')\n",
    "    graph['conv1_2']  = _conv2d_relu(graph['conv1_1'], 2, 'conv1_2')\n",
    "    graph['avgpool1'] = _avgpool(graph['conv1_2'])\n",
    "    graph['conv2_1']  = _conv2d_relu(graph['avgpool1'], 5, 'conv2_1')\n",
    "    graph['conv2_2']  = _conv2d_relu(graph['conv2_1'], 7, 'conv2_2')\n",
    "    graph['avgpool2'] = _avgpool(graph['conv2_2'])\n",
    "    graph['conv3_1']  = _conv2d_relu(graph['avgpool2'], 10, 'conv3_1')\n",
    "    graph['conv3_2']  = _conv2d_relu(graph['conv3_1'], 12, 'conv3_2')\n",
    "    graph['conv3_3']  = _conv2d_relu(graph['conv3_2'], 14, 'conv3_3')\n",
    "    graph['conv3_4']  = _conv2d_relu(graph['conv3_3'], 16, 'conv3_4')\n",
    "    graph['avgpool3'] = _avgpool(graph['conv3_4'])\n",
    "    graph['conv4_1']  = _conv2d_relu(graph['avgpool3'], 19, 'conv4_1')\n",
    "    graph['conv4_2']  = _conv2d_relu(graph['conv4_1'], 21, 'conv4_2')\n",
    "    graph['conv4_3']  = _conv2d_relu(graph['conv4_2'], 23, 'conv4_3')\n",
    "    graph['conv4_4']  = _conv2d_relu(graph['conv4_3'], 25, 'conv4_4')\n",
    "    graph['avgpool4'] = _avgpool(graph['conv4_4'])\n",
    "    graph['conv5_1']  = _conv2d_relu(graph['avgpool4'], 28, 'conv5_1')\n",
    "    graph['conv5_2']  = _conv2d_relu(graph['conv5_1'], 30, 'conv5_2')\n",
    "    graph['conv5_3']  = _conv2d_relu(graph['conv5_2'], 32, 'conv5_3')\n",
    "    graph['conv5_4']  = _conv2d_relu(graph['conv5_3'], 34, 'conv5_4')\n",
    "    graph['avgpool5'] = _avgpool(graph['conv5_4'])\n",
    "    \n",
    "    return graph\n",
    "\n",
    "def generate_noise_image(content_image, noise_ratio = CONFIG.NOISE_RATIO):\n",
    "    \"\"\"\n",
    "    Generates a noisy image by adding random noise to the content_image\n",
    "    \"\"\"\n",
    "    \n",
    "    # Generate a random noise_image\n",
    "    noise_image = np.random.uniform(-20, 20, (1, CONFIG.IMAGE_HEIGHT, CONFIG.IMAGE_WIDTH, CONFIG.COLOR_CHANNELS)).astype('float32')\n",
    "    \n",
    "    # Set the input_image to be a weighted average of the content_image and a noise_image\n",
    "    input_image = noise_image * noise_ratio + content_image * (1 - noise_ratio)\n",
    "\n",
    "    return input_image\n",
    "\n",
    "\n",
    "def reshape_and_normalize_image(image):\n",
    "    \"\"\"\n",
    "    Reshape and normalize the input image (content or style)\n",
    "    \"\"\"\n",
    "    \n",
    "    # Reshape image to mach expected input of VGG16\n",
    "    image = np.reshape(image, ((1,) + image.shape))\n",
    "    \n",
    "    # Substract the mean to match the expected input of VGG16\n",
    "    image = image - CONFIG.MEANS\n",
    "    \n",
    "    return image\n",
    "\n",
    "\n",
    "def save_image(path, image):\n",
    "    \n",
    "    # Un-normalize the image so that it looks good\n",
    "    image = image + CONFIG.MEANS\n",
    "    \n",
    "    # Clip and Save the image\n",
    "    image = np.clip(image[0], 0, 255).astype('uint8')\n",
    "    imshow(image)\n",
    "    imageio.imwrite(path, image)"
   ]
  },
  {
   "cell_type": "markdown",
   "metadata": {
    "colab_type": "text",
    "id": "3Eo8khctCZJC"
   },
   "source": [
    "# Instalamos PyDrive"
   ]
  },
  {
   "cell_type": "code",
   "execution_count": 2,
   "metadata": {
    "colab": {
     "base_uri": "https://localhost:8080/",
     "height": 258
    },
    "colab_type": "code",
    "executionInfo": {
     "elapsed": 6141,
     "status": "ok",
     "timestamp": 1564366665844,
     "user": {
      "displayName": "Ricardo Niño de Rivera Barrón",
      "photoUrl": "https://lh3.googleusercontent.com/-t91isWHlj1M/AAAAAAAAAAI/AAAAAAAABSo/42o0M4JmVwo/s64/photo.jpg",
      "userId": "00155701370526818145"
     },
     "user_tz": 300
    },
    "id": "Ie8cPN58CdpA",
    "outputId": "4ca96d45-5b46-4a88-c68c-770a1deb61ca"
   },
   "outputs": [
    {
     "name": "stdout",
     "output_type": "stream",
     "text": [
      "Requirement already satisfied: PyDrive in /usr/local/lib/python3.6/dist-packages (1.3.1)\n",
      "Requirement already satisfied: oauth2client>=4.0.0 in /usr/local/lib/python3.6/dist-packages (from PyDrive) (4.1.3)\n",
      "Requirement already satisfied: google-api-python-client>=1.2 in /usr/local/lib/python3.6/dist-packages (from PyDrive) (1.7.9)\n",
      "Requirement already satisfied: PyYAML>=3.0 in /usr/local/lib/python3.6/dist-packages (from PyDrive) (3.13)\n",
      "Requirement already satisfied: pyasn1>=0.1.7 in /usr/local/lib/python3.6/dist-packages (from oauth2client>=4.0.0->PyDrive) (0.4.5)\n",
      "Requirement already satisfied: httplib2>=0.9.1 in /usr/local/lib/python3.6/dist-packages (from oauth2client>=4.0.0->PyDrive) (0.11.3)\n",
      "Requirement already satisfied: six>=1.6.1 in /usr/local/lib/python3.6/dist-packages (from oauth2client>=4.0.0->PyDrive) (1.12.0)\n",
      "Requirement already satisfied: rsa>=3.1.4 in /usr/local/lib/python3.6/dist-packages (from oauth2client>=4.0.0->PyDrive) (4.0)\n",
      "Requirement already satisfied: pyasn1-modules>=0.0.5 in /usr/local/lib/python3.6/dist-packages (from oauth2client>=4.0.0->PyDrive) (0.2.5)\n",
      "Requirement already satisfied: uritemplate<4dev,>=3.0.0 in /usr/local/lib/python3.6/dist-packages (from google-api-python-client>=1.2->PyDrive) (3.0.0)\n",
      "Requirement already satisfied: google-auth-httplib2>=0.0.3 in /usr/local/lib/python3.6/dist-packages (from google-api-python-client>=1.2->PyDrive) (0.0.3)\n",
      "Requirement already satisfied: google-auth>=1.4.1 in /usr/local/lib/python3.6/dist-packages (from google-api-python-client>=1.2->PyDrive) (1.4.2)\n",
      "Requirement already satisfied: cachetools>=2.0.0 in /usr/local/lib/python3.6/dist-packages (from google-auth>=1.4.1->google-api-python-client>=1.2->PyDrive) (3.1.1)\n"
     ]
    }
   ],
   "source": [
    "!pip install PyDrive"
   ]
  },
  {
   "cell_type": "markdown",
   "metadata": {
    "colab_type": "text",
    "id": "YTcaJ9-6n2j8"
   },
   "source": [
    "# Autenticándonos"
   ]
  },
  {
   "cell_type": "code",
   "execution_count": 0,
   "metadata": {
    "colab": {},
    "colab_type": "code",
    "id": "ceuPXQILn9Il"
   },
   "outputs": [],
   "source": [
    "from pydrive.auth import GoogleAuth\n",
    "from pydrive.drive import GoogleDrive\n",
    "from google.colab import auth\n",
    "from oauth2client.client import GoogleCredentials\n",
    "\n",
    "auth.authenticate_user()\n",
    "gauth = GoogleAuth()\n",
    "gauth.credentials = GoogleCredentials.get_application_default()\n",
    "drive = GoogleDrive(gauth)"
   ]
  },
  {
   "cell_type": "markdown",
   "metadata": {
    "colab_type": "text",
    "id": "Vf1URgVFo6ZD"
   },
   "source": [
    "# Vinculando nuestro modulo con google colab"
   ]
  },
  {
   "cell_type": "code",
   "execution_count": 0,
   "metadata": {
    "colab": {},
    "colab_type": "code",
    "id": "-7ZWrH-5pIAA"
   },
   "outputs": [],
   "source": [
    "#nst_utils = drive.CreateFile({'id':'1dCJEKv2UcB94YArUip8FlZlFXWCXvjgQ'})"
   ]
  },
  {
   "cell_type": "markdown",
   "metadata": {
    "colab_type": "text",
    "id": "v8K4oQPepoh7"
   },
   "source": [
    "# Asignamos el archivo específico a nuestro modulo"
   ]
  },
  {
   "cell_type": "code",
   "execution_count": 0,
   "metadata": {
    "colab": {},
    "colab_type": "code",
    "id": "QQgHrCqMp1B7"
   },
   "outputs": [],
   "source": [
    "#nst_utils.GetContentFile('nst_utils.py')"
   ]
  },
  {
   "cell_type": "markdown",
   "metadata": {
    "colab_type": "text",
    "id": "XfVbCCZUqFy1"
   },
   "source": [
    "# Importamos librerías"
   ]
  },
  {
   "cell_type": "code",
   "execution_count": 0,
   "metadata": {
    "colab": {},
    "colab_type": "code",
    "id": "4jBGhdI4nJyP"
   },
   "outputs": [],
   "source": [
    "import os\n",
    "import sys\n",
    "import scipy\n",
    "import scipy.misc\n",
    "import scipy.io as sio\n",
    "import imageio\n",
    "import matplotlib.pyplot as plt\n",
    "from matplotlib.pyplot import imshow\n",
    "from PIL import Image\n",
    "import numpy as np\n",
    "import tensorflow as tf\n",
    "\n",
    "%matplotlib inline"
   ]
  },
  {
   "cell_type": "code",
   "execution_count": 7,
   "metadata": {
    "colab": {
     "base_uri": "https://localhost:8080/",
     "height": 693
    },
    "colab_type": "code",
    "executionInfo": {
     "elapsed": 2789,
     "status": "ok",
     "timestamp": 1564366675919,
     "user": {
      "displayName": "Ricardo Niño de Rivera Barrón",
      "photoUrl": "https://lh3.googleusercontent.com/-t91isWHlj1M/AAAAAAAAAAI/AAAAAAAABSo/42o0M4JmVwo/s64/photo.jpg",
      "userId": "00155701370526818145"
     },
     "user_tz": 300
    },
    "id": "oDWrmWpxAeQC",
    "outputId": "70385b9e-4a15-404f-9462-468b310086d5"
   },
   "outputs": [
    {
     "name": "stderr",
     "output_type": "stream",
     "text": [
      "WARNING: Logging before flag parsing goes to stderr.\n",
      "W0729 02:17:54.234489 139641658926976 __init__.py:44] file_cache is unavailable when using oauth2client >= 4.0.0 or google-auth\n",
      "Traceback (most recent call last):\n",
      "  File \"/usr/local/lib/python3.6/dist-packages/googleapiclient/discovery_cache/__init__.py\", line 36, in autodetect\n",
      "    from google.appengine.api import memcache\n",
      "ModuleNotFoundError: No module named 'google.appengine'\n",
      "\n",
      "During handling of the above exception, another exception occurred:\n",
      "\n",
      "Traceback (most recent call last):\n",
      "  File \"/usr/local/lib/python3.6/dist-packages/googleapiclient/discovery_cache/file_cache.py\", line 33, in <module>\n",
      "    from oauth2client.contrib.locked_file import LockedFile\n",
      "ModuleNotFoundError: No module named 'oauth2client.contrib.locked_file'\n",
      "\n",
      "During handling of the above exception, another exception occurred:\n",
      "\n",
      "Traceback (most recent call last):\n",
      "  File \"/usr/local/lib/python3.6/dist-packages/googleapiclient/discovery_cache/file_cache.py\", line 37, in <module>\n",
      "    from oauth2client.locked_file import LockedFile\n",
      "ModuleNotFoundError: No module named 'oauth2client.locked_file'\n",
      "\n",
      "During handling of the above exception, another exception occurred:\n",
      "\n",
      "Traceback (most recent call last):\n",
      "  File \"/usr/local/lib/python3.6/dist-packages/googleapiclient/discovery_cache/__init__.py\", line 41, in autodetect\n",
      "    from . import file_cache\n",
      "  File \"/usr/local/lib/python3.6/dist-packages/googleapiclient/discovery_cache/file_cache.py\", line 41, in <module>\n",
      "    'file_cache is unavailable when using oauth2client >= 4.0.0 or google-auth')\n",
      "ImportError: file_cache is unavailable when using oauth2client >= 4.0.0 or google-auth\n"
     ]
    },
    {
     "data": {
      "text/plain": [
       "<matplotlib.image.AxesImage at 0x7f008fd3d160>"
      ]
     },
     "execution_count": 7,
     "metadata": {
      "tags": []
     },
     "output_type": "execute_result"
    },
    {
     "data": {
      "image/png": "[encoded data removed]",
      "text/plain": [
       "<Figure size 432x288 with 1 Axes>"
      ]
     },
     "metadata": {
      "tags": []
     },
     "output_type": "display_data"
    }
   ],
   "source": [
    "#Primera imagen a mostrar en el primer comentario o celda de texto\n",
    "\n",
    "#Llamamos al archivo\n",
    "download = drive.CreateFile({'id': '1QapFohTUsOkX5ycLkkLBqYKar0csfz9P'})\n",
    "download.GetContentFile('louvre_generated.png')\n",
    "\n",
    "#Cargamos el archivo\n",
    "content_image = imageio.imread(\"louvre_generated.png\")\n",
    "imshow(content_image)"
   ]
  },
  {
   "cell_type": "markdown",
   "metadata": {
    "colab_type": "text",
    "id": "1LsOW4kpnJyY"
   },
   "source": [
    "## 1 - Problem Statement\n",
    "\n",
    "Neural Style Transfer (NST) is one of the most fun techniques in deep learning. As seen below, it merges two images, namely, a \"content\" image (C) and a \"style\" image (S), to create a \"generated\" image (G). The generated image G combines the \"content\" of the image C with the \"style\" of image S. \n",
    "\n",
    "In this example, you are going to generate an image of the Louvre museum in Paris (content image C), mixed with a painting by Claude Monet, a leader of the impressionist movement (style image S).\n",
    "![flouvre_generated](https://github.com/rininobaron/images/blob/master/louvre_generated.png?raw=true)\n",
    "<img src=\"https://github.com/rininobaron/images/blob/master/louvre_generated.png?raw=true\" style=\"width:750px;height:200px;\">\n",
    "\n",
    "Let's see how you can do this. "
   ]
  },
  {
   "cell_type": "markdown",
   "metadata": {
    "colab_type": "text",
    "id": "gLOdkQ6tnJya"
   },
   "source": [
    "## 2 - Transfer Learning\n",
    "\n",
    "Neural Style Transfer (NST) uses a previously trained convolutional network, and builds on top of that. The idea of using a network trained on a different task and applying it to a new task is called transfer learning. \n",
    "\n",
    "Following the original NST paper (https://arxiv.org/abs/1508.06576), we will use the VGG network. Specifically, we'll use VGG-19, a 19-layer version of the VGG network. This model has already been trained on the very large ImageNet database, and thus has learned to recognize a variety of low level features (at the earlier layers) and high level features (at the deeper layers). \n",
    "\n",
    "Run the following code to load parameters from the VGG model. This may take a few seconds. "
   ]
  },
  {
   "cell_type": "code",
   "execution_count": 1,
   "metadata": {
    "colab": {
     "base_uri": "https://localhost:8080/",
     "height": 54
    },
    "colab_type": "code",
    "executionInfo": {
     "elapsed": 13985,
     "status": "ok",
     "timestamp": 1564366688925,
     "user": {
      "displayName": "Ricardo Niño de Rivera Barrón",
      "photoUrl": "https://lh3.googleusercontent.com/-t91isWHlj1M/AAAAAAAAAAI/AAAAAAAABSo/42o0M4JmVwo/s64/photo.jpg",
      "userId": "00155701370526818145"
     },
     "user_tz": 300
    },
    "id": "ULuJ4b_RnJyb",
    "outputId": "aa1e6863-137b-4b1c-8c6d-6085bfc423e0"
   },
   "outputs": [
    {
     "ename": "KeyboardInterrupt",
     "evalue": "",
     "output_type": "error",
     "traceback": [
      "\u001b[1;31m---------------------------------------------------------------------------\u001b[0m",
      "\u001b[1;31mKeyboardInterrupt\u001b[0m                         Traceback (most recent call last)",
      "\u001b[1;32m<ipython-input-1-661aa2c7273b>\u001b[0m in \u001b[0;36m<module>\u001b[1;34m\u001b[0m\n\u001b[0;32m      1\u001b[0m \u001b[1;32mimport\u001b[0m \u001b[0murllib\u001b[0m\u001b[1;33m\u001b[0m\u001b[1;33m\u001b[0m\u001b[0m\n\u001b[1;32m----> 2\u001b[1;33m \u001b[0murllib\u001b[0m\u001b[1;33m.\u001b[0m\u001b[0mrequest\u001b[0m\u001b[1;33m.\u001b[0m\u001b[0murlretrieve\u001b[0m\u001b[1;33m(\u001b[0m\u001b[1;34m'http://www.vlfeat.org/matconvnet/models/imagenet-vgg-verydeep-19.mat'\u001b[0m\u001b[1;33m,\u001b[0m\u001b[1;34m'imagenet-vgg-verydeep-19.mat'\u001b[0m\u001b[1;33m)\u001b[0m\u001b[1;33m\u001b[0m\u001b[1;33m\u001b[0m\u001b[0m\n\u001b[0m\u001b[0;32m      3\u001b[0m \u001b[1;33m\u001b[0m\u001b[0m\n\u001b[0;32m      4\u001b[0m \u001b[0mmodel\u001b[0m \u001b[1;33m=\u001b[0m \u001b[0mload_vgg_model\u001b[0m\u001b[1;33m(\u001b[0m\u001b[1;34m\"imagenet-vgg-verydeep-19.mat\"\u001b[0m\u001b[1;33m)\u001b[0m\u001b[1;33m\u001b[0m\u001b[1;33m\u001b[0m\u001b[0m\n\u001b[0;32m      5\u001b[0m \u001b[0mprint\u001b[0m\u001b[1;33m(\u001b[0m\u001b[0mmodel\u001b[0m\u001b[1;33m)\u001b[0m\u001b[1;33m\u001b[0m\u001b[1;33m\u001b[0m\u001b[0m\n",
      "\u001b[1;32mC:\\ProgramData\\Anaconda3\\lib\\urllib\\request.py\u001b[0m in \u001b[0;36murlretrieve\u001b[1;34m(url, filename, reporthook, data)\u001b[0m\n\u001b[0;32m    274\u001b[0m \u001b[1;33m\u001b[0m\u001b[0m\n\u001b[0;32m    275\u001b[0m             \u001b[1;32mwhile\u001b[0m \u001b[1;32mTrue\u001b[0m\u001b[1;33m:\u001b[0m\u001b[1;33m\u001b[0m\u001b[1;33m\u001b[0m\u001b[0m\n\u001b[1;32m--> 276\u001b[1;33m                 \u001b[0mblock\u001b[0m \u001b[1;33m=\u001b[0m \u001b[0mfp\u001b[0m\u001b[1;33m.\u001b[0m\u001b[0mread\u001b[0m\u001b[1;33m(\u001b[0m\u001b[0mbs\u001b[0m\u001b[1;33m)\u001b[0m\u001b[1;33m\u001b[0m\u001b[1;33m\u001b[0m\u001b[0m\n\u001b[0m\u001b[0;32m    277\u001b[0m                 \u001b[1;32mif\u001b[0m \u001b[1;32mnot\u001b[0m \u001b[0mblock\u001b[0m\u001b[1;33m:\u001b[0m\u001b[1;33m\u001b[0m\u001b[1;33m\u001b[0m\u001b[0m\n\u001b[0;32m    278\u001b[0m                     \u001b[1;32mbreak\u001b[0m\u001b[1;33m\u001b[0m\u001b[1;33m\u001b[0m\u001b[0m\n",
      "\u001b[1;32mC:\\ProgramData\\Anaconda3\\lib\\http\\client.py\u001b[0m in \u001b[0;36mread\u001b[1;34m(self, amt)\u001b[0m\n\u001b[0;32m    445\u001b[0m             \u001b[1;31m# Amount is given, implement using readinto\u001b[0m\u001b[1;33m\u001b[0m\u001b[1;33m\u001b[0m\u001b[1;33m\u001b[0m\u001b[0m\n\u001b[0;32m    446\u001b[0m             \u001b[0mb\u001b[0m \u001b[1;33m=\u001b[0m \u001b[0mbytearray\u001b[0m\u001b[1;33m(\u001b[0m\u001b[0mamt\u001b[0m\u001b[1;33m)\u001b[0m\u001b[1;33m\u001b[0m\u001b[1;33m\u001b[0m\u001b[0m\n\u001b[1;32m--> 447\u001b[1;33m             \u001b[0mn\u001b[0m \u001b[1;33m=\u001b[0m \u001b[0mself\u001b[0m\u001b[1;33m.\u001b[0m\u001b[0mreadinto\u001b[0m\u001b[1;33m(\u001b[0m\u001b[0mb\u001b[0m\u001b[1;33m)\u001b[0m\u001b[1;33m\u001b[0m\u001b[1;33m\u001b[0m\u001b[0m\n\u001b[0m\u001b[0;32m    448\u001b[0m             \u001b[1;32mreturn\u001b[0m \u001b[0mmemoryview\u001b[0m\u001b[1;33m(\u001b[0m\u001b[0mb\u001b[0m\u001b[1;33m)\u001b[0m\u001b[1;33m[\u001b[0m\u001b[1;33m:\u001b[0m\u001b[0mn\u001b[0m\u001b[1;33m]\u001b[0m\u001b[1;33m.\u001b[0m\u001b[0mtobytes\u001b[0m\u001b[1;33m(\u001b[0m\u001b[1;33m)\u001b[0m\u001b[1;33m\u001b[0m\u001b[1;33m\u001b[0m\u001b[0m\n\u001b[0;32m    449\u001b[0m         \u001b[1;32melse\u001b[0m\u001b[1;33m:\u001b[0m\u001b[1;33m\u001b[0m\u001b[1;33m\u001b[0m\u001b[0m\n",
      "\u001b[1;32mC:\\ProgramData\\Anaconda3\\lib\\http\\client.py\u001b[0m in \u001b[0;36mreadinto\u001b[1;34m(self, b)\u001b[0m\n\u001b[0;32m    489\u001b[0m         \u001b[1;31m# connection, and the user is reading more bytes than will be provided\u001b[0m\u001b[1;33m\u001b[0m\u001b[1;33m\u001b[0m\u001b[1;33m\u001b[0m\u001b[0m\n\u001b[0;32m    490\u001b[0m         \u001b[1;31m# (for example, reading in 1k chunks)\u001b[0m\u001b[1;33m\u001b[0m\u001b[1;33m\u001b[0m\u001b[1;33m\u001b[0m\u001b[0m\n\u001b[1;32m--> 491\u001b[1;33m         \u001b[0mn\u001b[0m \u001b[1;33m=\u001b[0m \u001b[0mself\u001b[0m\u001b[1;33m.\u001b[0m\u001b[0mfp\u001b[0m\u001b[1;33m.\u001b[0m\u001b[0mreadinto\u001b[0m\u001b[1;33m(\u001b[0m\u001b[0mb\u001b[0m\u001b[1;33m)\u001b[0m\u001b[1;33m\u001b[0m\u001b[1;33m\u001b[0m\u001b[0m\n\u001b[0m\u001b[0;32m    492\u001b[0m         \u001b[1;32mif\u001b[0m \u001b[1;32mnot\u001b[0m \u001b[0mn\u001b[0m \u001b[1;32mand\u001b[0m \u001b[0mb\u001b[0m\u001b[1;33m:\u001b[0m\u001b[1;33m\u001b[0m\u001b[1;33m\u001b[0m\u001b[0m\n\u001b[0;32m    493\u001b[0m             \u001b[1;31m# Ideally, we would raise IncompleteRead if the content-length\u001b[0m\u001b[1;33m\u001b[0m\u001b[1;33m\u001b[0m\u001b[1;33m\u001b[0m\u001b[0m\n",
      "\u001b[1;32mC:\\ProgramData\\Anaconda3\\lib\\socket.py\u001b[0m in \u001b[0;36mreadinto\u001b[1;34m(self, b)\u001b[0m\n\u001b[0;32m    587\u001b[0m         \u001b[1;32mwhile\u001b[0m \u001b[1;32mTrue\u001b[0m\u001b[1;33m:\u001b[0m\u001b[1;33m\u001b[0m\u001b[1;33m\u001b[0m\u001b[0m\n\u001b[0;32m    588\u001b[0m             \u001b[1;32mtry\u001b[0m\u001b[1;33m:\u001b[0m\u001b[1;33m\u001b[0m\u001b[1;33m\u001b[0m\u001b[0m\n\u001b[1;32m--> 589\u001b[1;33m                 \u001b[1;32mreturn\u001b[0m \u001b[0mself\u001b[0m\u001b[1;33m.\u001b[0m\u001b[0m_sock\u001b[0m\u001b[1;33m.\u001b[0m\u001b[0mrecv_into\u001b[0m\u001b[1;33m(\u001b[0m\u001b[0mb\u001b[0m\u001b[1;33m)\u001b[0m\u001b[1;33m\u001b[0m\u001b[1;33m\u001b[0m\u001b[0m\n\u001b[0m\u001b[0;32m    590\u001b[0m             \u001b[1;32mexcept\u001b[0m \u001b[0mtimeout\u001b[0m\u001b[1;33m:\u001b[0m\u001b[1;33m\u001b[0m\u001b[1;33m\u001b[0m\u001b[0m\n\u001b[0;32m    591\u001b[0m                 \u001b[0mself\u001b[0m\u001b[1;33m.\u001b[0m\u001b[0m_timeout_occurred\u001b[0m \u001b[1;33m=\u001b[0m \u001b[1;32mTrue\u001b[0m\u001b[1;33m\u001b[0m\u001b[1;33m\u001b[0m\u001b[0m\n",
      "\u001b[1;31mKeyboardInterrupt\u001b[0m: "
     ]
    }
   ],
   "source": [
    "import urllib\n",
    "urllib.request.urlretrieve('http://www.vlfeat.org/matconvnet/models/imagenet-vgg-verydeep-19.mat','imagenet-vgg-verydeep-19.mat')\n",
    "\n",
    "model = load_vgg_model(\"imagenet-vgg-verydeep-19.mat\")\n",
    "print(model)"
   ]
  },
  {
   "cell_type": "markdown",
   "metadata": {
    "colab_type": "text",
    "id": "wi_vda2mnJyn"
   },
   "source": [
    "The model is stored in a python dictionary where each variable name is the key and the corresponding value is a tensor containing that variable's value. To run an image through this network, you just have to feed the image to the model. In TensorFlow, you can do so using the [tf.assign](https://www.tensorflow.org/api_docs/python/tf/assign) function. In particular, you will use the assign function like this:  \n",
    "```python\n",
    "model[\"input\"].assign(image)\n",
    "```\n",
    "This assigns the image as an input to the model. After this, if you want to access the activations of a particular layer, say layer `4_2` when the network is run on this image, you would run a TensorFlow session on the correct tensor `conv4_2`, as follows:  \n",
    "```python\n",
    "sess.run(model[\"conv4_2\"])\n",
    "```"
   ]
  },
  {
   "cell_type": "markdown",
   "metadata": {
    "colab_type": "text",
    "id": "UylsA8uFnJyp"
   },
   "source": [
    "## 3 - Neural Style Transfer \n",
    "\n",
    "We will build the NST algorithm in three steps:\n",
    "\n",
    "- Build the content cost function $J_{content}(C,G)$\n",
    "- Build the style cost function $J_{style}(S,G)$\n",
    "- Put it together to get $J(G) = \\alpha J_{content}(C,G) + \\beta J_{style}(S,G)$. \n",
    "\n",
    "### 3.1 - Computing the content cost\n",
    "\n",
    "In our running example, the content image C will be the picture of the Louvre Museum in Paris. Run the code below to see a picture of the Louvre."
   ]
  },
  {
   "cell_type": "code",
   "execution_count": 9,
   "metadata": {
    "colab": {
     "base_uri": "https://localhost:8080/",
     "height": 286
    },
    "colab_type": "code",
    "executionInfo": {
     "elapsed": 1951,
     "status": "ok",
     "timestamp": 1564366693736,
     "user": {
      "displayName": "Ricardo Niño de Rivera Barrón",
      "photoUrl": "https://lh3.googleusercontent.com/-t91isWHlj1M/AAAAAAAAAAI/AAAAAAAABSo/42o0M4JmVwo/s64/photo.jpg",
      "userId": "00155701370526818145"
     },
     "user_tz": 300
    },
    "id": "jgmt5WxGnJyr",
    "outputId": "c6c8797c-4a6e-447a-d66f-a33e496ac1f6",
    "scrolled": true
   },
   "outputs": [
    {
     "data": {
      "text/plain": [
       "<matplotlib.image.AxesImage at 0x7f008b39f7b8>"
      ]
     },
     "execution_count": 9,
     "metadata": {
      "tags": []
     },
     "output_type": "execute_result"
    },
    {
     "data": {
      "image/png": "[encoded data removed]",
      "text/plain": [
       "<Figure size 432x288 with 1 Axes>"
      ]
     },
     "metadata": {
      "tags": []
     },
     "output_type": "display_data"
    }
   ],
   "source": [
    "#Llamamos al archivo\n",
    "download = drive.CreateFile({'id': '1SBkijWOFxmN3YGAjhBLeZEFK__t5LE5x'})\n",
    "download.GetContentFile('yo.jpg')\n",
    "\n",
    "#Cargamos el archivo\n",
    "content_image = imageio.imread(\"yo.jpg\")\n",
    "imshow(content_image)"
   ]
  },
  {
   "cell_type": "markdown",
   "metadata": {
    "colab_type": "text",
    "id": "oh36LQEJnJy0"
   },
   "source": [
    "The content image (C) shows the Louvre museum's pyramid surrounded by old Paris buildings, against a sunny sky with a few clouds.\n",
    "\n",
    "** 3.1.1 - How do you ensure the generated image G matches the content of the image C?**\n",
    "\n",
    "As we saw in lecture, the earlier (shallower) layers of a ConvNet tend to detect lower-level features such as edges and simple textures, and the later (deeper) layers tend to detect higher-level features such as more complex textures as well as object classes. \n",
    "\n",
    "We would like the \"generated\" image G to have similar content as the input image C. Suppose you have chosen some layer's activations to represent the content of an image. In practice, you'll get the most visually pleasing results if you choose a layer in the middle of the network--neither too shallow nor too deep. (After you have finished this exercise, feel free to come back and experiment with using different layers, to see how the results vary.)\n",
    "\n",
    "So, suppose you have picked one particular hidden layer to use. Now, set the image C as the input to the pretrained VGG network, and run forward propagation. Let $a^{(C)}$ be the hidden layer activations in the layer you had chosen. (In lecture, we had written this as $a^{[l](C)}$, but here we'll drop the superscript $[l]$ to simplify the notation.) This will be a $n_H \\times n_W \\times n_C$ tensor. Repeat this process with the image G: Set G as the input, and run forward progation. Let $$a^{(G)}$$ be the corresponding hidden layer activation. We will define as the content cost function as:\n",
    "\n",
    "$$J_{content}(C,G) =  \\frac{1}{4 \\times n_H \\times n_W \\times n_C}\\sum _{ \\text{all entries}} (a^{(C)} - a^{(G)})^2\\tag{1} $$\n",
    "\n",
    "Here, $n_H, n_W$ and $n_C$ are the height, width and number of channels of the hidden layer you have chosen, and appear in a normalization term in the cost. For clarity, note that $a^{(C)}$ and $a^{(G)}$ are the volumes corresponding to a hidden layer's activations. In order to compute the cost $J_{content}(C,G)$, it might also be convenient to unroll these 3D volumes into a 2D matrix, as shown below. (Technically this unrolling step isn't needed to compute $J_{content}$, but it will be good practice for when you do need to carry out a similar operation later for computing the style const $J_{style}$.)\n",
    "\n",
    "<img src=\"https://github.com/rininobaron/images/blob/master/NST_LOSS.png?raw=true\" style=\"width:800px;height:400px;\">\n",
    "\n",
    "**Exercise:** Compute the \"content cost\" using TensorFlow. \n",
    "\n",
    "**Instructions**: The 3 steps to implement this function are:\n",
    "1. Retrieve dimensions from a_G: \n",
    "    - To retrieve dimensions from a tensor X, use: `X.get_shape().as_list()`\n",
    "2. Unroll a_C and a_G as explained in the picture above\n",
    "    - If you are stuck, take a look at [Hint1](https://www.tensorflow.org/versions/r1.3/api_docs/python/tf/transpose) and [Hint2](https://www.tensorflow.org/versions/r1.2/api_docs/python/tf/reshape).\n",
    "3. Compute the content cost:\n",
    "    - If you are stuck, take a look at [Hint3](https://www.tensorflow.org/api_docs/python/tf/reduce_sum), [Hint4](https://www.tensorflow.org/api_docs/python/tf/square) and [Hint5](https://www.tensorflow.org/api_docs/python/tf/subtract)."
   ]
  },
  {
   "cell_type": "code",
   "execution_count": 0,
   "metadata": {
    "colab": {},
    "colab_type": "code",
    "id": "IfXxS7zAnJy1"
   },
   "outputs": [],
   "source": [
    "# GRADED FUNCTION: compute_content_cost\n",
    "\n",
    "def compute_content_cost(a_C, a_G):\n",
    "    \"\"\"\n",
    "    Computes the content cost\n",
    "    \n",
    "    Arguments:\n",
    "    a_C -- tensor of dimension (1, n_H, n_W, n_C), hidden layer activations representing content of the image C \n",
    "    a_G -- tensor of dimension (1, n_H, n_W, n_C), hidden layer activations representing content of the image G\n",
    "    \n",
    "    Returns: \n",
    "    J_content -- scalar that you compute using equation 1 above.\n",
    "    \"\"\"\n",
    "    \n",
    "    ### START CODE HERE ###\n",
    "    # Retrieve dimensions from a_G (≈1 line)\n",
    "    m, n_H, n_W, n_C = a_G.get_shape().as_list()\n",
    "    \n",
    "    # Reshape a_C and a_G (≈2 lines)\n",
    "    a_C_unrolled = tf.reshape(a_C, [m, n_H*n_W, n_C])\n",
    "    a_G_unrolled = tf.reshape(a_G, [m, n_H*n_W, n_C])\n",
    "    \n",
    "    # compute the cost with tensorflow (≈1 line)\n",
    "    J_content = (1/(4*n_H*n_W*n_C))*tf.reduce_sum(tf.square(tf.subtract( a_C_unrolled, a_G_unrolled)))\n",
    "    ### END CODE HERE ###\n",
    "    \n",
    "    return J_content"
   ]
  },
  {
   "cell_type": "code",
   "execution_count": 11,
   "metadata": {
    "colab": {
     "base_uri": "https://localhost:8080/",
     "height": 34
    },
    "colab_type": "code",
    "executionInfo": {
     "elapsed": 3266,
     "status": "ok",
     "timestamp": 1564366706006,
     "user": {
      "displayName": "Ricardo Niño de Rivera Barrón",
      "photoUrl": "https://lh3.googleusercontent.com/-t91isWHlj1M/AAAAAAAAAAI/AAAAAAAABSo/42o0M4JmVwo/s64/photo.jpg",
      "userId": "00155701370526818145"
     },
     "user_tz": 300
    },
    "id": "i8N-5FvMnJy6",
    "outputId": "c0690160-4909-4e08-9166-0501354852e9"
   },
   "outputs": [
    {
     "name": "stdout",
     "output_type": "stream",
     "text": [
      "J_content = 6.7655935\n"
     ]
    }
   ],
   "source": [
    "tf.reset_default_graph()\n",
    "\n",
    "with tf.Session() as test:\n",
    "    tf.set_random_seed(1)\n",
    "    a_C = tf.random_normal([1, 4, 4, 3], mean=1, stddev=4)\n",
    "    a_G = tf.random_normal([1, 4, 4, 3], mean=1, stddev=4)\n",
    "    J_content = compute_content_cost(a_C, a_G)\n",
    "    print(\"J_content = \" + str(J_content.eval()))"
   ]
  },
  {
   "cell_type": "markdown",
   "metadata": {
    "colab_type": "text",
    "id": "JHIuL9VpnJzE"
   },
   "source": [
    "**Expected Output**:\n",
    "\n",
    "<table>\n",
    "    <tr>\n",
    "        <td>\n",
    "            **J_content**\n",
    "        </td>\n",
    "        <td>\n",
    "           6.76559\n",
    "        </td>\n",
    "    </tr>\n",
    "\n",
    "</table>"
   ]
  },
  {
   "cell_type": "markdown",
   "metadata": {
    "colab_type": "text",
    "id": "wGGw9ss0nJzH"
   },
   "source": [
    "<font color='blue'>\n",
    "**What you should remember**:\n",
    "- The content cost takes a hidden layer activation of the neural network, and measures how different $a^{(C)}$ and $a^{(G)}$ are. \n",
    "- When we minimize the content cost later, this will help make sure $G$ has similar content as $C$."
   ]
  },
  {
   "cell_type": "markdown",
   "metadata": {
    "colab_type": "text",
    "id": "YLu3VNlAnJzI"
   },
   "source": [
    "### 3.2 - Computing the style cost\n",
    "\n",
    "For our running example, we will use the following style image: "
   ]
  },
  {
   "cell_type": "code",
   "execution_count": 12,
   "metadata": {
    "colab": {
     "base_uri": "https://localhost:8080/",
     "height": 286
    },
    "colab_type": "code",
    "executionInfo": {
     "elapsed": 3069,
     "status": "ok",
     "timestamp": 1564366708060,
     "user": {
      "displayName": "Ricardo Niño de Rivera Barrón",
      "photoUrl": "https://lh3.googleusercontent.com/-t91isWHlj1M/AAAAAAAAAAI/AAAAAAAABSo/42o0M4JmVwo/s64/photo.jpg",
      "userId": "00155701370526818145"
     },
     "user_tz": 300
    },
    "id": "4v60VFG-nJzL",
    "outputId": "a7d6292e-0562-4338-9d83-ea03303e8227"
   },
   "outputs": [
    {
     "data": {
      "text/plain": [
       "<matplotlib.image.AxesImage at 0x7f008bc4f400>"
      ]
     },
     "execution_count": 12,
     "metadata": {
      "tags": []
     },
     "output_type": "execute_result"
    },
    {
     "data": {
      "image/png": "[encoded data removed]",
      "text/plain": [
       "<Figure size 432x288 with 1 Axes>"
      ]
     },
     "metadata": {
      "tags": []
     },
     "output_type": "display_data"
    }
   ],
   "source": [
    "#Llamamos al archivo\n",
    "download = drive.CreateFile({'id': '1TrODYMdmOqQ7VcOp9yXl-WyHmSc6e5HT'})\n",
    "download.GetContentFile('portada1.jpg')\n",
    "\n",
    "#Cargamos el archivo\n",
    "style_image = imageio.imread(\"portada1.jpg\")\n",
    "imshow(style_image)"
   ]
  },
  {
   "cell_type": "markdown",
   "metadata": {
    "colab_type": "text",
    "id": "cxniSfzWnJzS"
   },
   "source": [
    "This painting was painted in the style of *[impressionism](https://en.wikipedia.org/wiki/Impressionism)*.\n",
    "\n",
    "Lets see how you can now define a \"style\" const function $J_{style}(S,G)$. "
   ]
  },
  {
   "cell_type": "markdown",
   "metadata": {
    "colab_type": "text",
    "id": "iAjocGxlnJzT"
   },
   "source": [
    "### 3.2.1 - Style matrix\n",
    "\n",
    "The style matrix is also called a \"Gram matrix.\" In linear algebra, the Gram matrix G of a set of vectors $(v_{1},\\dots ,v_{n})$ is the matrix of dot products, whose entries are ${\\displaystyle G_{ij} = v_{i}^T v_{j} = np.dot(v_{i}, v_{j})  }$. In other words, $G_{ij}$ compares how similar $v_i$ is to $v_j$: If they are highly similar, you would expect them to have a large dot product, and thus for $G_{ij}$ to be large. \n",
    "\n",
    "Note that there is an unfortunate collision in the variable names used here. We are following common terminology used in the literature, but $G$ is used to denote the Style matrix (or Gram matrix) as well as to denote the generated image $G$. We will try to make sure which $G$ we are referring to is always clear from the context. \n",
    "\n",
    "In NST, you can compute the Style matrix by multiplying the \"unrolled\" filter matrix with their transpose:\n",
    "\n",
    "<img src=\"https://github.com/rininobaron/images/blob/master/NST_GM.png?raw=true\" style=\"width:900px;height:300px;\">\n",
    "\n",
    "The result is a matrix of dimension $(n_C,n_C)$ where $n_C$ is the number of filters. The value $G_{ij}$ measures how similar the activations of filter $i$ are to the activations of filter $j$. \n",
    "\n",
    "One important part of the gram matrix is that the diagonal elements such as $G_{ii}$ also measures how active filter $i$ is. For example, suppose filter $i$ is detecting vertical textures in the image. Then $G_{ii}$ measures how common  vertical textures are in the image as a whole: If $G_{ii}$ is large, this means that the image has a lot of vertical texture. \n",
    "\n",
    "By capturing the prevalence of different types of features ($G_{ii}$), as well as how much different features occur together ($G_{ij}$), the Style matrix $G$ measures the style of an image. \n",
    "\n",
    "**Exercise**:\n",
    "Using TensorFlow, implement a function that computes the Gram matrix of a matrix A. The formula is: The gram matrix of A is $G_A = AA^T$. If you are stuck, take a look at [Hint 1](https://www.tensorflow.org/api_docs/python/tf/matmul) and [Hint 2](https://www.tensorflow.org/api_docs/python/tf/transpose)."
   ]
  },
  {
   "cell_type": "code",
   "execution_count": 0,
   "metadata": {
    "colab": {},
    "colab_type": "code",
    "id": "Jszqt2MnnJzV"
   },
   "outputs": [],
   "source": [
    "# GRADED FUNCTION: gram_matrix\n",
    "\n",
    "def gram_matrix(A):\n",
    "    \"\"\"\n",
    "    Argument:\n",
    "    A -- matrix of shape (n_C, n_H*n_W)\n",
    "    \n",
    "    Returns:\n",
    "    GA -- Gram matrix of A, of shape (n_C, n_C)\n",
    "    \"\"\"\n",
    "    \n",
    "    ### START CODE HERE ### (≈1 line)\n",
    "    GA = tf.matmul(A,tf.transpose(A))\n",
    "    ### END CODE HERE ###\n",
    "    \n",
    "    return GA"
   ]
  },
  {
   "cell_type": "code",
   "execution_count": 14,
   "metadata": {
    "colab": {
     "base_uri": "https://localhost:8080/",
     "height": 68
    },
    "colab_type": "code",
    "executionInfo": {
     "elapsed": 1421,
     "status": "ok",
     "timestamp": 1564366710295,
     "user": {
      "displayName": "Ricardo Niño de Rivera Barrón",
      "photoUrl": "https://lh3.googleusercontent.com/-t91isWHlj1M/AAAAAAAAAAI/AAAAAAAABSo/42o0M4JmVwo/s64/photo.jpg",
      "userId": "00155701370526818145"
     },
     "user_tz": 300
    },
    "id": "ylNap6WvnJze",
    "outputId": "936f019b-9987-4a8f-878a-f5ec253dbed9"
   },
   "outputs": [
    {
     "name": "stdout",
     "output_type": "stream",
     "text": [
      "GA = [[ 6.422305 -4.429122 -2.096682]\n",
      " [-4.429122 19.465837 19.563871]\n",
      " [-2.096682 19.563871 20.686462]]\n"
     ]
    }
   ],
   "source": [
    "tf.reset_default_graph()\n",
    "\n",
    "with tf.Session() as test:\n",
    "    tf.set_random_seed(1)\n",
    "    A = tf.random_normal([3, 2*1], mean=1, stddev=4)\n",
    "    GA = gram_matrix(A)\n",
    "    \n",
    "    print(\"GA = \" + str(GA.eval()))"
   ]
  },
  {
   "cell_type": "markdown",
   "metadata": {
    "colab_type": "text",
    "id": "187SzavonJzm"
   },
   "source": [
    "**Expected Output**:\n",
    "\n",
    "<table>\n",
    "    <tr>\n",
    "        <td>\n",
    "            **GA**\n",
    "        </td>\n",
    "        <td>\n",
    "           [[  6.42230511  -4.42912197  -2.09668207] <br>\n",
    " [ -4.42912197  19.46583748  19.56387138] <br>\n",
    " [ -2.09668207  19.56387138  20.6864624 ]]\n",
    "        </td>\n",
    "    </tr>\n",
    "\n",
    "</table>"
   ]
  },
  {
   "cell_type": "markdown",
   "metadata": {
    "colab_type": "text",
    "id": "lWAbTn2FnJzn"
   },
   "source": [
    "### 3.2.2 - Style cost"
   ]
  },
  {
   "cell_type": "markdown",
   "metadata": {
    "colab_type": "text",
    "id": "k4G99B3onJzp"
   },
   "source": [
    "After generating the Style matrix (Gram matrix), your goal will be to minimize the distance between the Gram matrix of the \"style\" image S and that of the \"generated\" image G. For now, we are using only a single hidden layer $a^{[l]}$, and the corresponding style cost for this layer is defined as: \n",
    "\n",
    "$$J_{style}^{[l]}(S,G) = \\frac{1}{4 \\times {n_C}^2 \\times (n_H \\times n_W)^2} \\sum _{i=1}^{n_C}\\sum_{j=1}^{n_C}(G^{(S)}_{ij} - G^{(G)}_{ij})^2\\tag{2} $$\n",
    "\n",
    "where $G^{(S)}$ and $G^{(G)}$ are respectively the Gram matrices of the \"style\" image and the \"generated\" image, computed using the hidden layer activations for a particular hidden layer in the network.  \n"
   ]
  },
  {
   "cell_type": "markdown",
   "metadata": {
    "colab_type": "text",
    "id": "pUkRLZQqnJzr"
   },
   "source": [
    "**Exercise**: Compute the style cost for a single layer. \n",
    "\n",
    "**Instructions**: The 3 steps to implement this function are:\n",
    "1. Retrieve dimensions from the hidden layer activations a_G: \n",
    "    - To retrieve dimensions from a tensor X, use: `X.get_shape().as_list()`\n",
    "2. Unroll the hidden layer activations a_S and a_G into 2D matrices, as explained in the picture above.\n",
    "    - You may find [Hint1](https://www.tensorflow.org/versions/r1.3/api_docs/python/tf/transpose) and [Hint2](https://www.tensorflow.org/versions/r1.2/api_docs/python/tf/reshape) useful.\n",
    "3. Compute the Style matrix of the images S and G. (Use the function you had previously written.) \n",
    "4. Compute the Style cost:\n",
    "    - You may find [Hint3](https://www.tensorflow.org/api_docs/python/tf/reduce_sum), [Hint4](https://www.tensorflow.org/api_docs/python/tf/square) and [Hint5](https://www.tensorflow.org/api_docs/python/tf/subtract) useful."
   ]
  },
  {
   "cell_type": "code",
   "execution_count": 0,
   "metadata": {
    "colab": {},
    "colab_type": "code",
    "id": "mdb-5DjVnJzt"
   },
   "outputs": [],
   "source": [
    "# GRADED FUNCTION: compute_layer_style_cost\n",
    "\n",
    "def compute_layer_style_cost(a_S, a_G):\n",
    "    \"\"\"\n",
    "    Arguments:\n",
    "    a_S -- tensor of dimension (1, n_H, n_W, n_C), hidden layer activations representing style of the image S \n",
    "    a_G -- tensor of dimension (1, n_H, n_W, n_C), hidden layer activations representing style of the image G\n",
    "    \n",
    "    Returns: \n",
    "    J_style_layer -- tensor representing a scalar value, style cost defined above by equation (2)\n",
    "    \"\"\"\n",
    "    \n",
    "    ### START CODE HERE ###\n",
    "    # Retrieve dimensions from a_G (≈1 line)\n",
    "    m, n_H, n_W, n_C = a_G.get_shape().as_list()\n",
    "    \n",
    "    # Reshape the images to have them of shape (n_C, n_H*n_W) ERROR (≈2 lines)\n",
    "    a_S = tf.transpose(tf.reshape(a_S, [n_H*n_W, n_C]))\n",
    "    a_G = tf.transpose(tf.reshape(a_G, [n_H*n_W, n_C]))\n",
    "\n",
    "    # Computing gram_matrices for both images S and G (≈2 lines)\n",
    "    GS = gram_matrix(a_S)\n",
    "    GG = gram_matrix(a_G)\n",
    "\n",
    "    # Computing the loss (≈1 line)\n",
    "    J_style_layer = (1/(4*n_C*n_C*(n_H*n_W)*(n_H*n_W)))*tf.reduce_sum(tf.square(tf.subtract(GS, GG)))\n",
    "    \n",
    "    ### END CODE HERE ###\n",
    "    \n",
    "    return J_style_layer"
   ]
  },
  {
   "cell_type": "code",
   "execution_count": 16,
   "metadata": {
    "colab": {
     "base_uri": "https://localhost:8080/",
     "height": 34
    },
    "colab_type": "code",
    "executionInfo": {
     "elapsed": 675,
     "status": "ok",
     "timestamp": 1564366713388,
     "user": {
      "displayName": "Ricardo Niño de Rivera Barrón",
      "photoUrl": "https://lh3.googleusercontent.com/-t91isWHlj1M/AAAAAAAAAAI/AAAAAAAABSo/42o0M4JmVwo/s64/photo.jpg",
      "userId": "00155701370526818145"
     },
     "user_tz": 300
    },
    "id": "q77K5ec7nJz0",
    "outputId": "82f1f46b-ceca-409f-dc3b-5fe95faab140",
    "scrolled": false
   },
   "outputs": [
    {
     "name": "stdout",
     "output_type": "stream",
     "text": [
      "J_style_layer = 9.190275\n"
     ]
    }
   ],
   "source": [
    "tf.reset_default_graph()\n",
    "\n",
    "with tf.Session() as test:\n",
    "    tf.set_random_seed(1)\n",
    "    a_S = tf.random_normal([1, 4, 4, 3], mean=1, stddev=4)\n",
    "    a_G = tf.random_normal([1, 4, 4, 3], mean=1, stddev=4)\n",
    "    J_style_layer = compute_layer_style_cost(a_S, a_G)\n",
    "    \n",
    "    print(\"J_style_layer = \" + str(J_style_layer.eval()))"
   ]
  },
  {
   "cell_type": "markdown",
   "metadata": {
    "colab_type": "text",
    "id": "bkNqKCzBnJz7"
   },
   "source": [
    "**Expected Output**:\n",
    "\n",
    "<table>\n",
    "    <tr>\n",
    "        <td>\n",
    "            **J_style_layer**\n",
    "        </td>\n",
    "        <td>\n",
    "           9.19028\n",
    "        </td>\n",
    "    </tr>\n",
    "\n",
    "</table>"
   ]
  },
  {
   "cell_type": "markdown",
   "metadata": {
    "colab_type": "text",
    "id": "1mkHmw43nJz-"
   },
   "source": [
    "### 3.2.3 Style Weights\n",
    "\n",
    "So far you have captured the style from only one layer. We'll get better results if we \"merge\" style costs from several different layers. After completing this exercise, feel free to come back and experiment with different weights to see how it changes the generated image $G$. But for now, this is a pretty reasonable default: "
   ]
  },
  {
   "cell_type": "code",
   "execution_count": 0,
   "metadata": {
    "colab": {},
    "colab_type": "code",
    "id": "Lz1DZYqCnJz_"
   },
   "outputs": [],
   "source": [
    "STYLE_LAYERS = [\n",
    "    ('conv1_1', 0.5),\n",
    "    ('conv2_1', 1.0),\n",
    "    ('conv3_1', 3.0),\n",
    "    ('conv4_1', 8.0),\n",
    "    ('conv5_1', 10.0)]"
   ]
  },
  {
   "cell_type": "markdown",
   "metadata": {
    "colab_type": "text",
    "id": "sR_KyvcunJ0F"
   },
   "source": [
    "You can combine the style costs for different layers as follows:\n",
    "\n",
    "$$J_{style}(S,G) = \\sum_{l} \\lambda^{[l]} J^{[l]}_{style}(S,G)$$\n",
    "\n",
    "where the values for $\\lambda^{[l]}$ are given in `STYLE_LAYERS`. \n"
   ]
  },
  {
   "cell_type": "markdown",
   "metadata": {
    "colab_type": "text",
    "id": "Zv5KWX1KnJ0H"
   },
   "source": [
    "We've implemented a compute_style_cost(...) function. It simply calls your `compute_layer_style_cost(...)` several times, and weights their results using the values in `STYLE_LAYERS`. Read over it to make sure you understand what it's doing. \n",
    "\n",
    "<!-- \n",
    "2. Loop over (layer_name, coeff) from STYLE_LAYERS:\n",
    "        a. Select the output tensor of the current layer. As an example, to call the tensor from the \"conv1_1\" layer you would do: out = model[\"conv1_1\"]\n",
    "        b. Get the style of the style image from the current layer by running the session on the tensor \"out\"\n",
    "        c. Get a tensor representing the style of the generated image from the current layer. It is just \"out\".\n",
    "        d. Now that you have both styles. Use the function you've implemented above to compute the style_cost for the current layer\n",
    "        e. Add (style_cost x coeff) of the current layer to overall style cost (J_style)\n",
    "3. Return J_style, which should now be the sum of the (style_cost x coeff) for each layer.\n",
    "!--> \n"
   ]
  },
  {
   "cell_type": "code",
   "execution_count": 0,
   "metadata": {
    "colab": {},
    "colab_type": "code",
    "id": "4Y81I2dEnJ0I"
   },
   "outputs": [],
   "source": [
    "def compute_style_cost(model, STYLE_LAYERS):\n",
    "    \"\"\"\n",
    "    Computes the overall style cost from several chosen layers\n",
    "    \n",
    "    Arguments:\n",
    "    model -- our tensorflow model\n",
    "    STYLE_LAYERS -- A python list containing:\n",
    "                        - the names of the layers we would like to extract style from\n",
    "                        - a coefficient for each of them\n",
    "    \n",
    "    Returns: \n",
    "    J_style -- tensor representing a scalar value, style cost defined above by equation (2)\n",
    "    \"\"\"\n",
    "    \n",
    "    # initialize the overall style cost\n",
    "    J_style = 0\n",
    "\n",
    "    for layer_name, coeff in STYLE_LAYERS:\n",
    "\n",
    "        # Select the output tensor of the currently selected layer\n",
    "        out = model[layer_name]\n",
    "\n",
    "        # Set a_S to be the hidden layer activation from the layer we have selected, by running the session on out\n",
    "        a_S = sess.run(out)\n",
    "\n",
    "        # Set a_G to be the hidden layer activation from same layer. Here, a_G references model[layer_name] \n",
    "        # and isn't evaluated yet. Later in the code, we'll assign the image G as the model input, so that\n",
    "        # when we run the session, this will be the activations drawn from the appropriate layer, with G as input.\n",
    "        a_G = out\n",
    "        \n",
    "        # Compute style_cost for the current layer\n",
    "        J_style_layer = compute_layer_style_cost(a_S, a_G)\n",
    "\n",
    "        # Add coeff * J_style_layer of this layer to overall style cost\n",
    "        J_style += coeff * J_style_layer\n",
    "\n",
    "    return J_style"
   ]
  },
  {
   "cell_type": "markdown",
   "metadata": {
    "colab_type": "text",
    "id": "Zv66XVDEnJ0q"
   },
   "source": [
    "**Note**: In the inner-loop of the for-loop above, `a_G` is a tensor and hasn't been evaluated yet. It will be evaluated and updated at each iteration when we run the TensorFlow graph in model_nn() below.\n",
    "\n",
    "<!-- \n",
    "How do you choose the coefficients for each layer? The deeper layers capture higher-level concepts, and the features in the deeper layers are less localized in the image relative to each other. So if you want the generated image to softly follow the style image, try choosing larger weights for deeper layers and smaller weights for the first layers. In contrast, if you want the generated image to strongly follow the style image, try choosing smaller weights for deeper layers and larger weights for the first layers\n",
    "!-->\n",
    "\n",
    "\n",
    "<font color='blue'>\n",
    "**What you should remember**:\n",
    "- The style of an image can be represented using the Gram matrix of a hidden layer's activations. However, we get even better results combining this representation from multiple different layers. This is in contrast to the content representation, where usually using just a single hidden layer is sufficient.\n",
    "- Minimizing the style cost will cause the image $G$ to follow the style of the image $S$. \n",
    "</font color='blue'>\n",
    "\n"
   ]
  },
  {
   "cell_type": "markdown",
   "metadata": {
    "colab_type": "text",
    "id": "BLCCVCzYnJ0t"
   },
   "source": [
    "### 3.3 - Defining the total cost to optimize"
   ]
  },
  {
   "cell_type": "markdown",
   "metadata": {
    "colab_type": "text",
    "id": "hiQ9IGqrnJ0x"
   },
   "source": [
    "Finally, let's create a cost function that minimizes both the style and the content cost. The formula is: \n",
    "0126+\n",
    "$$J(G) = \\alpha J_{content}(C,G) + \\beta J_{style}(S,G)$$\n",
    "\n",
    "**Exercise**: Implement the total cost function which includes both the content cost and the style cost. "
   ]
  },
  {
   "cell_type": "code",
   "execution_count": 0,
   "metadata": {
    "colab": {},
    "colab_type": "code",
    "id": "vWKz8W4nnJ02"
   },
   "outputs": [],
   "source": [
    "# GRADED FUNCTION: total_cost\n",
    "\n",
    "def total_cost(J_content, J_style, alpha, beta):\n",
    "    \"\"\"\n",
    "    Computes the total cost function\n",
    "    \n",
    "    Arguments:\n",
    "    J_content -- content cost coded above\n",
    "    J_style -- style cost coded above\n",
    "    alpha -- hyperparameter weighting the importance of the content cost\n",
    "    beta -- hyperparameter weighting the importance of the style cost\n",
    "    \n",
    "    Returns:\n",
    "    J -- total cost as defined by the formula above.\n",
    "    \"\"\"\n",
    "    \n",
    "    ### START CODE HERE ### (≈1 line)\n",
    "    J = alpha*J_content + beta*J_style\n",
    "    ### END CODE HERE ###\n",
    "    \n",
    "    return J"
   ]
  },
  {
   "cell_type": "code",
   "execution_count": 20,
   "metadata": {
    "colab": {
     "base_uri": "https://localhost:8080/",
     "height": 34
    },
    "colab_type": "code",
    "executionInfo": {
     "elapsed": 531,
     "status": "ok",
     "timestamp": 1564366719410,
     "user": {
      "displayName": "Ricardo Niño de Rivera Barrón",
      "photoUrl": "https://lh3.googleusercontent.com/-t91isWHlj1M/AAAAAAAAAAI/AAAAAAAABSo/42o0M4JmVwo/s64/photo.jpg",
      "userId": "00155701370526818145"
     },
     "user_tz": 300
    },
    "id": "pEpwi548nJ0-",
    "outputId": "1f63dba7-fcaf-4dfa-a77a-400342eba7d4"
   },
   "outputs": [
    {
     "name": "stdout",
     "output_type": "stream",
     "text": [
      "J = 35.34667875478276\n"
     ]
    }
   ],
   "source": [
    "tf.reset_default_graph()\n",
    "\n",
    "with tf.Session() as test:\n",
    "    np.random.seed(3)\n",
    "    J_content = np.random.randn()    \n",
    "    J_style = np.random.randn()\n",
    "    J = total_cost(J_content, J_style, alpha = 10, beta = 40)\n",
    "    print(\"J = \" + str(J))"
   ]
  },
  {
   "cell_type": "markdown",
   "metadata": {
    "colab_type": "text",
    "id": "YBfPzDbknJ1I"
   },
   "source": [
    "**Expected Output**:\n",
    "\n",
    "<table>\n",
    "    <tr>\n",
    "        <td>\n",
    "            **J**\n",
    "        </td>\n",
    "        <td>\n",
    "           35.34667875478276\n",
    "        </td>\n",
    "    </tr>\n",
    "\n",
    "</table>"
   ]
  },
  {
   "cell_type": "markdown",
   "metadata": {
    "colab_type": "text",
    "id": "Uv_k8MJnnJ1L"
   },
   "source": [
    "<font color='blue'>\n",
    "**What you should remember**:\n",
    "- The total cost is a linear combination of the content cost $J_{content}(C,G)$ and the style cost $J_{style}(S,G)$\n",
    "- $\\alpha$ and $\\beta$ are hyperparameters that control the relative weighting between content and style"
   ]
  },
  {
   "cell_type": "markdown",
   "metadata": {
    "colab_type": "text",
    "id": "yBHtJbkTnJ1N"
   },
   "source": [
    "## 4 - Solving the optimization problem"
   ]
  },
  {
   "cell_type": "markdown",
   "metadata": {
    "colab_type": "text",
    "id": "BQ6_x49fnJ1P"
   },
   "source": [
    "Finally, let's put everything together to implement Neural Style Transfer!\n",
    "\n",
    "\n",
    "Here's what the program will have to do:\n",
    "<font color='purple'>\n",
    "\n",
    "1. Create an Interactive Session\n",
    "2. Load the content image \n",
    "3. Load the style image\n",
    "4. Randomly initialize the image to be generated \n",
    "5. Load the VGG16 model\n",
    "7. Build the TensorFlow graph:\n",
    "    - Run the content image through the VGG16 model and compute the content cost\n",
    "    - Run the style image through the VGG16 model and compute the style cost\n",
    "    - Compute the total cost\n",
    "    - Define the optimizer and the learning rate\n",
    "8. Initialize the TensorFlow graph and run it for a large number of iterations, updating the generated image at every step.\n",
    "\n",
    "</font>\n",
    "Lets go through the individual steps in detail. "
   ]
  },
  {
   "cell_type": "markdown",
   "metadata": {
    "colab_type": "text",
    "id": "tgS45o7jnJ1R"
   },
   "source": [
    "You've previously implemented the overall cost $J(G)$. We'll now set up TensorFlow to optimize this with respect to $G$. To do so, your program has to reset the graph and use an \"[Interactive Session](https://www.tensorflow.org/api_docs/python/tf/InteractiveSession)\". Unlike a regular session, the \"Interactive Session\" installs itself as the default session to build a graph.  This allows you to run variables without constantly needing to refer to the session object, which simplifies the code.  \n",
    "\n",
    "Lets start the interactive session."
   ]
  },
  {
   "cell_type": "markdown",
   "metadata": {
    "colab_type": "text",
    "id": "U9vqNyQxTIp9"
   },
   "source": [
    "# Debemos inicializar graph para evitar error de Colab"
   ]
  },
  {
   "cell_type": "code",
   "execution_count": 0,
   "metadata": {
    "colab": {},
    "colab_type": "code",
    "id": "86KoEVH1TPQM"
   },
   "outputs": [],
   "source": [
    "#myGraph = tf.Graph().as_default()"
   ]
  },
  {
   "cell_type": "code",
   "execution_count": 0,
   "metadata": {
    "colab": {},
    "colab_type": "code",
    "id": "AcPfxOmpnJ1V"
   },
   "outputs": [],
   "source": [
    "# Reset the graph\n",
    "tf.reset_default_graph()\n",
    "\n",
    "# Start interactive session\n",
    "sess = tf.InteractiveSession()"
   ]
  },
  {
   "cell_type": "markdown",
   "metadata": {
    "colab_type": "text",
    "id": "LmC_LAsNnJ1e"
   },
   "source": [
    "Let's load, reshape, and normalize our \"content\" image (the Louvre museum picture):"
   ]
  },
  {
   "cell_type": "code",
   "execution_count": 0,
   "metadata": {
    "colab": {},
    "colab_type": "code",
    "id": "XXKBzIyonJ1g"
   },
   "outputs": [],
   "source": [
    "#content_image = scipy.misc.imread(\"tests/yo.jpg\") #Esta instrucción la comentamos porque utilizamos la imagen de arriba\n",
    "content_image = reshape_and_normalize_image(content_image)"
   ]
  },
  {
   "cell_type": "markdown",
   "metadata": {
    "colab_type": "text",
    "id": "rgpnUQx0nJ1m"
   },
   "source": [
    "Let's load, reshape and normalize our \"style\" image (Claude Monet's painting):"
   ]
  },
  {
   "cell_type": "code",
   "execution_count": 0,
   "metadata": {
    "colab": {},
    "colab_type": "code",
    "id": "NDkeJw2inJ1o"
   },
   "outputs": [],
   "source": [
    "#style_image = scipy.misc.imread(\"tests/portada1.jpg\") #Esta instrucción la comentamos porque utilizamos la imagen de arriba\n",
    "style_image = reshape_and_normalize_image(style_image)"
   ]
  },
  {
   "cell_type": "markdown",
   "metadata": {
    "colab_type": "text",
    "id": "Qyi5Tth8nJ1z"
   },
   "source": [
    "Now, we initialize the \"generated\" image as a noisy image created from the content_image. By initializing the pixels of the generated image to be mostly noise but still slightly correlated with the content image, this will help the content of the \"generated\" image more rapidly match the content of the \"content\" image. (Feel free to look in `nst_utils.py` to see the details of `generate_noise_image(...)`; to do so, click \"File-->Open...\" at the upper-left corner of this Jupyter notebook.)"
   ]
  },
  {
   "cell_type": "code",
   "execution_count": 25,
   "metadata": {
    "colab": {
     "base_uri": "https://localhost:8080/",
     "height": 323
    },
    "colab_type": "code",
    "executionInfo": {
     "elapsed": 1164,
     "status": "ok",
     "timestamp": 1564366729095,
     "user": {
      "displayName": "Ricardo Niño de Rivera Barrón",
      "photoUrl": "https://lh3.googleusercontent.com/-t91isWHlj1M/AAAAAAAAAAI/AAAAAAAABSo/42o0M4JmVwo/s64/photo.jpg",
      "userId": "00155701370526818145"
     },
     "user_tz": 300
    },
    "id": "0ZrvVlXwnJ10",
    "outputId": "58816191-356d-4ad4-f55f-e4ea9a3af54a"
   },
   "outputs": [
    {
     "name": "stderr",
     "output_type": "stream",
     "text": [
      "W0729 02:18:49.187075 139641658926976 image.py:648] Clipping input data to the valid range for imshow with RGB data ([0..1] for floats or [0..255] for integers).\n"
     ]
    },
    {
     "data": {
      "text/plain": [
       "<matplotlib.image.AxesImage at 0x7f00805577f0>"
      ]
     },
     "execution_count": 25,
     "metadata": {
      "tags": []
     },
     "output_type": "execute_result"
    },
    {
     "data": {
      "image/png": "[encoded data removed]",
      "text/plain": [
       "<Figure size 432x288 with 1 Axes>"
      ]
     },
     "metadata": {
      "tags": []
     },
     "output_type": "display_data"
    }
   ],
   "source": [
    "generated_image = generate_noise_image(content_image)\n",
    "imshow(generated_image[0])"
   ]
  },
  {
   "cell_type": "markdown",
   "metadata": {
    "colab_type": "text",
    "id": "bXV3CmOInJ18"
   },
   "source": [
    "Next, as explained in part (2), let's load the VGG16 model."
   ]
  },
  {
   "cell_type": "code",
   "execution_count": 0,
   "metadata": {
    "colab": {},
    "colab_type": "code",
    "id": "kEylb9m-nJ19"
   },
   "outputs": [],
   "source": [
    "model = load_vgg_model('imagenet-vgg-verydeep-19.mat.mat')\n"
   ]
  },
  {
   "cell_type": "markdown",
   "metadata": {
    "colab_type": "text",
    "id": "zMeiedOLnJ2D"
   },
   "source": [
    "To get the program to compute the content cost, we will now assign `a_C` and `a_G` to be the appropriate hidden layer activations. We will use layer `conv4_2` to compute the content cost. The code below does the following:\n",
    "\n",
    "1. Assign the content image to be the input to the VGG model.\n",
    "2. Set a_C to be the tensor giving the hidden layer activation for layer \"conv4_2\".\n",
    "3. Set a_G to be the tensor giving the hidden layer activation for the same layer. \n",
    "4. Compute the content cost using a_C and a_G."
   ]
  },
  {
   "cell_type": "code",
   "execution_count": 27,
   "metadata": {
    "colab": {
     "base_uri": "https://localhost:8080/",
     "height": 34
    },
    "colab_type": "code",
    "executionInfo": {
     "elapsed": 3797,
     "status": "ok",
     "timestamp": 1564366734962,
     "user": {
      "displayName": "Ricardo Niño de Rivera Barrón",
      "photoUrl": "https://lh3.googleusercontent.com/-t91isWHlj1M/AAAAAAAAAAI/AAAAAAAABSo/42o0M4JmVwo/s64/photo.jpg",
      "userId": "00155701370526818145"
     },
     "user_tz": 300
    },
    "id": "UYAPPxm0OZFT",
    "outputId": "e51fe166-3a07-4cab-b38b-612b385c8a72"
   },
   "outputs": [
    {
     "data": {
      "text/plain": [
       "<tf.Tensor 'Relu_9:0' shape=(1, 150, 150, 512) dtype=float32>"
      ]
     },
     "execution_count": 27,
     "metadata": {
      "tags": []
     },
     "output_type": "execute_result"
    }
   ],
   "source": [
    "model['conv4_2']"
   ]
  },
  {
   "cell_type": "code",
   "execution_count": 0,
   "metadata": {
    "colab": {},
    "colab_type": "code",
    "id": "PUxMrAI4nJ2E"
   },
   "outputs": [],
   "source": [
    "# Assign the content image to be the input of the VGG model.  \n",
    "sess.run(model['input'].assign(content_image))\n",
    "\n",
    "# Select the output tensor of layer conv4_2\n",
    "out = model['conv4_2']\n",
    "\n",
    "# Set a_C to be the hidden layer activation from the layer we have selected\n",
    "a_C = sess.run(out)\n",
    "\n",
    "# Set a_G to be the hidden layer activation from same layer. Here, a_G references model['conv4_2'] \n",
    "# and isn't evaluated yet. Later in the code, we'll assign the image G as the model input, so that\n",
    "# when we run the session, this will be the activations drawn from the appropriate layer, with G as input.\n",
    "a_G = out\n",
    "\n",
    "# Compute the content cost\n",
    "J_content = compute_content_cost(a_C, a_G)"
   ]
  },
  {
   "cell_type": "markdown",
   "metadata": {
    "colab_type": "text",
    "id": "Kl1a3fOQnJ2L"
   },
   "source": [
    "**Note**: At this point, a_G is a tensor and hasn't been evaluated. It will be evaluated and updated at each iteration when we run the Tensorflow graph in model_nn() below."
   ]
  },
  {
   "cell_type": "code",
   "execution_count": 0,
   "metadata": {
    "colab": {},
    "colab_type": "code",
    "id": "U50i_yMnnJ2N"
   },
   "outputs": [],
   "source": [
    "# Assign the input of the model to be the \"style\" image \n",
    "sess.run(model['input'].assign(style_image))\n",
    "\n",
    "# Compute the style cost\n",
    "J_style = compute_style_cost(model, STYLE_LAYERS)"
   ]
  },
  {
   "cell_type": "markdown",
   "metadata": {
    "colab_type": "text",
    "id": "ujg7aEnfnJ2S"
   },
   "source": [
    "**Exercise**: Now that you have J_content and J_style, compute the total cost J by calling `total_cost()`. Use `alpha = 10` and `beta = 40`."
   ]
  },
  {
   "cell_type": "code",
   "execution_count": 0,
   "metadata": {
    "colab": {},
    "colab_type": "code",
    "id": "vcAAPqeSnJ2T"
   },
   "outputs": [],
   "source": [
    "### START CODE HERE ### (1 line)\n",
    "J = total_cost(J_content, J_style, alpha = 5, beta = 100) #Le damos más peso al estilo\n",
    "### END CODE HERE ###"
   ]
  },
  {
   "cell_type": "markdown",
   "metadata": {
    "colab_type": "text",
    "id": "-PqT3FCjnJ2Z"
   },
   "source": [
    "You'd previously learned how to set up the Adam optimizer in TensorFlow. Lets do that here, using a learning rate of 2.0.  [See reference](https://www.tensorflow.org/api_docs/python/tf/train/AdamOptimizer)"
   ]
  },
  {
   "cell_type": "code",
   "execution_count": 0,
   "metadata": {
    "colab": {},
    "colab_type": "code",
    "id": "hquLgBMOnJ2a"
   },
   "outputs": [],
   "source": [
    "# define optimizer (1 line)\n",
    "optimizer = tf.train.AdamOptimizer(2.0)\n",
    "\n",
    "# define train_step (1 line)\n",
    "train_step = optimizer.minimize(J)"
   ]
  },
  {
   "cell_type": "markdown",
   "metadata": {
    "colab_type": "text",
    "id": "d0BziP6MnJ2h"
   },
   "source": [
    "**Exercise**: Implement the model_nn() function which initializes the variables of the tensorflow graph, assigns the input image (initial generated image) as the input of the VGG16 model and runs the train_step for a large number of steps."
   ]
  },
  {
   "cell_type": "code",
   "execution_count": 0,
   "metadata": {
    "colab": {},
    "colab_type": "code",
    "id": "QrPrSMa1nJ2l"
   },
   "outputs": [],
   "source": [
    "def model_nn(sess, input_image, num_iterations = 5000):\n",
    "    \n",
    "    # Initialize global variables (you need to run the session on the initializer)\n",
    "    ### START CODE HERE ### (1 line)\n",
    "    sess.run(tf.global_variables_initializer())\n",
    "    ### END CODE HERE ###\n",
    "    \n",
    "    # Run the noisy input image (initial generated image) through the model. Use assign().\n",
    "    ### START CODE HERE ### (1 line)\n",
    "    sess.run(model['input'].assign(input_image))\n",
    "    ### END CODE HERE ###\n",
    "    \n",
    "    for i in range(num_iterations):\n",
    "    \n",
    "        # Run the session on the train_step to minimize the total cost\n",
    "        ### START CODE HERE ### (1 line)\n",
    "        sess.run(train_step)\n",
    "        ### END CODE HERE ###\n",
    "        \n",
    "        # Compute the generated image by running the session on the current model['input']\n",
    "        ### START CODE HERE ### (1 line)\n",
    "        generated_image =  sess.run(model['input'])\n",
    "        ### END CODE HERE ###\n",
    "\n",
    "        # Print every 20 iteration.\n",
    "        if i%20 == 0:\n",
    "            Jt, Jc, Js = sess.run([J, J_content, J_style])\n",
    "            print(\"Iteration \" + str(i) + \" :\")\n",
    "            print(\"total cost = \" + str(Jt))\n",
    "            print(\"content cost = \" + str(Jc))\n",
    "            print(\"style cost = \" + str(Js))\n",
    "            \n",
    "            # save current generated image in the \"/output\" directory\n",
    "            save_image(\"output/\" + str(i) + \".png\", generated_image)\n",
    "    \n",
    "    # save last generated image\n",
    "    save_image('output/generated_image.jpg', generated_image)\n",
    "    \n",
    "    return generated_image"
   ]
  },
  {
   "cell_type": "markdown",
   "metadata": {
    "colab_type": "text",
    "id": "Elr_JLfpnJ2t"
   },
   "source": [
    "Run the following cell to generate an artistic image. It should take about 3min on CPU for every 20 iterations but you start observing attractive results after ≈140 iterations. Neural Style Transfer is generally trained using GPUs."
   ]
  },
  {
   "cell_type": "code",
   "execution_count": 0,
   "metadata": {
    "colab": {},
    "colab_type": "code",
    "id": "rqs-O9c_yz17"
   },
   "outputs": [],
   "source": [
    "if not os.path.exists('/content/output'):\n",
    "  os.mkdir('/content/output')"
   ]
  },
  {
   "cell_type": "code",
   "execution_count": 34,
   "metadata": {
    "colab": {
     "base_uri": "https://localhost:8080/",
     "height": 1000
    },
    "colab_type": "code",
    "executionInfo": {
     "elapsed": 4222590,
     "status": "ok",
     "timestamp": 1564370982214,
     "user": {
      "displayName": "Ricardo Niño de Rivera Barrón",
      "photoUrl": "https://lh3.googleusercontent.com/-t91isWHlj1M/AAAAAAAAAAI/AAAAAAAABSo/42o0M4JmVwo/s64/photo.jpg",
      "userId": "00155701370526818145"
     },
     "user_tz": 300
    },
    "id": "fyUKmDXZnJ2u",
    "outputId": "20b474d6-0a09-4f83-b135-35795c011ad2",
    "scrolled": true
   },
   "outputs": [
    {
     "name": "stdout",
     "output_type": "stream",
     "text": [
      "Iteration 0 :\n",
      "total cost = 547329570000.0\n",
      "content cost = 6802.8003\n",
      "style cost = 5473295400.0\n",
      "Iteration 20 :\n",
      "total cost = 233868920000.0\n",
      "content cost = 11058.225\n",
      "style cost = 2338688800.0\n",
      "Iteration 40 :\n",
      "total cost = 151617340000.0\n",
      "content cost = 11713.816\n",
      "style cost = 1516172800.0\n",
      "Iteration 60 :\n",
      "total cost = 110597450000.0\n",
      "content cost = 11935.348\n",
      "style cost = 1105973900.0\n",
      "Iteration 80 :\n",
      "total cost = 83377440000.0\n",
      "content cost = 12057.438\n",
      "style cost = 833773800.0\n",
      "Iteration 100 :\n",
      "total cost = 62378447000.0\n",
      "content cost = 12136.13\n",
      "style cost = 623783900.0\n",
      "Iteration 120 :\n",
      "total cost = 45745283000.0\n",
      "content cost = 12172.59\n",
      "style cost = 457452220.0\n",
      "Iteration 140 :\n",
      "total cost = 32945291000.0\n",
      "content cost = 12157.66\n",
      "style cost = 329452300.0\n",
      "Iteration 160 :\n",
      "total cost = 23474842000.0\n",
      "content cost = 12121.489\n",
      "style cost = 234747800.0\n",
      "Iteration 180 :\n",
      "total cost = 16685648000.0\n",
      "content cost = 12058.735\n",
      "style cost = 166855870.0\n",
      "Iteration 200 :\n",
      "total cost = 11985126000.0\n",
      "content cost = 11982.366\n",
      "style cost = 119850660.0\n",
      "Iteration 220 :\n",
      "total cost = 8769489000.0\n",
      "content cost = 11905.757\n",
      "style cost = 87694296.0\n",
      "Iteration 240 :\n",
      "total cost = 6972530000.0\n",
      "content cost = 11824.727\n",
      "style cost = 69724710.0\n",
      "Iteration 260 :\n",
      "total cost = 7135268400.0\n",
      "content cost = 11819.963\n",
      "style cost = 71352100.0\n",
      "Iteration 280 :\n",
      "total cost = 4397462500.0\n",
      "content cost = 11732.18\n",
      "style cost = 43974036.0\n",
      "Iteration 300 :\n",
      "total cost = 3082253000.0\n",
      "content cost = 11686.129\n",
      "style cost = 30821948.0\n",
      "Iteration 320 :\n",
      "total cost = 2404016000.0\n",
      "content cost = 11658.312\n",
      "style cost = 24039578.0\n",
      "Iteration 340 :\n",
      "total cost = 4580428000.0\n",
      "content cost = 11641.931\n",
      "style cost = 45803692.0\n",
      "Iteration 360 :\n",
      "total cost = 2367879700.0\n",
      "content cost = 11622.447\n",
      "style cost = 23678216.0\n",
      "Iteration 380 :\n",
      "total cost = 1553706000.0\n",
      "content cost = 11577.115\n",
      "style cost = 15536481.0\n",
      "Iteration 400 :\n",
      "total cost = 1252295300.0\n",
      "content cost = 11568.527\n",
      "style cost = 12522374.0\n",
      "Iteration 420 :\n",
      "total cost = 1203175400.0\n",
      "content cost = 11555.955\n",
      "style cost = 12031177.0\n",
      "Iteration 440 :\n",
      "total cost = 1015670340.0\n",
      "content cost = 11530.487\n",
      "style cost = 10156127.0\n",
      "Iteration 460 :\n",
      "total cost = 977923140.0\n",
      "content cost = 11506.742\n",
      "style cost = 9778656.0\n",
      "Iteration 480 :\n",
      "total cost = 937677440.0\n",
      "content cost = 11499.811\n",
      "style cost = 9376200.0\n",
      "Iteration 500 :\n",
      "total cost = 752626500.0\n",
      "content cost = 11495.31\n",
      "style cost = 7525690.0\n",
      "Iteration 520 :\n",
      "total cost = 1047420600.0\n",
      "content cost = 11504.698\n",
      "style cost = 10473631.0\n",
      "Iteration 540 :\n",
      "total cost = 882958000.0\n",
      "content cost = 11503.022\n",
      "style cost = 8829005.0\n",
      "Iteration 560 :\n",
      "total cost = 641967200.0\n",
      "content cost = 11492.006\n",
      "style cost = 6419097.5\n",
      "Iteration 580 :\n",
      "total cost = 616857700.0\n",
      "content cost = 11483.382\n",
      "style cost = 6168003.0\n",
      "Iteration 600 :\n",
      "total cost = 518096130.0\n",
      "content cost = 11469.061\n",
      "style cost = 5180388.0\n",
      "Iteration 620 :\n",
      "total cost = 676751800.0\n",
      "content cost = 11473.224\n",
      "style cost = 6766944.5\n",
      "Iteration 640 :\n",
      "total cost = 486892580.0\n",
      "content cost = 11472.905\n",
      "style cost = 4868352.0\n",
      "Iteration 660 :\n",
      "total cost = 791959700.0\n",
      "content cost = 11463.866\n",
      "style cost = 7919023.5\n",
      "Iteration 680 :\n",
      "total cost = 547089660.0\n",
      "content cost = 11501.933\n",
      "style cost = 5470321.0\n",
      "Iteration 700 :\n",
      "total cost = 446999700.0\n",
      "content cost = 11475.678\n",
      "style cost = 4469423.5\n",
      "Iteration 720 :\n",
      "total cost = 586628200.0\n",
      "content cost = 11466.976\n",
      "style cost = 5865708.5\n",
      "Iteration 740 :\n",
      "total cost = 435111500.0\n",
      "content cost = 11457.264\n",
      "style cost = 4350542.0\n",
      "Iteration 760 :\n",
      "total cost = 358997220.0\n",
      "content cost = 11459.898\n",
      "style cost = 3589399.0\n",
      "Iteration 780 :\n",
      "total cost = 9633203000.0\n",
      "content cost = 11354.37\n",
      "style cost = 96331470.0\n",
      "Iteration 800 :\n",
      "total cost = 16639071000.0\n",
      "content cost = 12908.86\n",
      "style cost = 166390060.0\n",
      "Iteration 820 :\n",
      "total cost = 2890625000.0\n",
      "content cost = 12266.819\n",
      "style cost = 28905636.0\n",
      "Iteration 840 :\n",
      "total cost = 1142725200.0\n",
      "content cost = 12063.352\n",
      "style cost = 11426649.0\n",
      "Iteration 860 :\n",
      "total cost = 747509570.0\n",
      "content cost = 11994.11\n",
      "style cost = 7474496.0\n",
      "Iteration 880 :\n",
      "total cost = 616758800.0\n",
      "content cost = 11940.857\n",
      "style cost = 6166990.5\n",
      "Iteration 900 :\n",
      "total cost = 508679420.0\n",
      "content cost = 11902.089\n",
      "style cost = 5086199.0\n",
      "Iteration 920 :\n",
      "total cost = 454796800.0\n",
      "content cost = 11874.964\n",
      "style cost = 4547374.5\n",
      "Iteration 940 :\n",
      "total cost = 412429440.0\n",
      "content cost = 11851.139\n",
      "style cost = 4123701.8\n",
      "Iteration 960 :\n",
      "total cost = 370608540.0\n",
      "content cost = 11832.399\n",
      "style cost = 3705493.8\n",
      "Iteration 980 :\n",
      "total cost = 416630720.0\n",
      "content cost = 11812.993\n",
      "style cost = 4165716.5\n",
      "Iteration 1000 :\n",
      "total cost = 326747500.0\n",
      "content cost = 11810.378\n",
      "style cost = 3266884.5\n",
      "Iteration 1020 :\n",
      "total cost = 304912420.0\n",
      "content cost = 11795.653\n",
      "style cost = 3048534.5\n",
      "Iteration 1040 :\n",
      "total cost = 294437500.0\n",
      "content cost = 11788.593\n",
      "style cost = 2943785.8\n",
      "Iteration 1060 :\n",
      "total cost = 276411140.0\n",
      "content cost = 11779.321\n",
      "style cost = 2763522.2\n",
      "Iteration 1080 :\n",
      "total cost = 321213100.0\n",
      "content cost = 11767.756\n",
      "style cost = 3211542.5\n",
      "Iteration 1100 :\n",
      "total cost = 526368670.0\n",
      "content cost = 11761.957\n",
      "style cost = 5263098.5\n",
      "Iteration 1120 :\n",
      "total cost = 394212400.0\n",
      "content cost = 11808.239\n",
      "style cost = 3941533.8\n",
      "Iteration 1140 :\n",
      "total cost = 295361120.0\n",
      "content cost = 11779.113\n",
      "style cost = 2953022.2\n",
      "Iteration 1160 :\n",
      "total cost = 244722610.0\n",
      "content cost = 11755.447\n",
      "style cost = 2446638.2\n",
      "Iteration 1180 :\n",
      "total cost = 226602370.0\n",
      "content cost = 11747.328\n",
      "style cost = 2265436.2\n",
      "Iteration 1200 :\n",
      "total cost = 423227400.0\n",
      "content cost = 11737.702\n",
      "style cost = 4231687.0\n",
      "Iteration 1220 :\n",
      "total cost = 246805330.0\n",
      "content cost = 11750.885\n",
      "style cost = 2467465.8\n",
      "Iteration 1240 :\n",
      "total cost = 201159650.0\n",
      "content cost = 11742.059\n",
      "style cost = 2011009.5\n",
      "Iteration 1260 :\n",
      "total cost = 191099220.0\n",
      "content cost = 11736.333\n",
      "style cost = 1910405.2\n",
      "Iteration 1280 :\n",
      "total cost = 266375860.0\n",
      "content cost = 11741.057\n",
      "style cost = 2663171.5\n",
      "Iteration 1300 :\n",
      "total cost = 188502940.0\n",
      "content cost = 11736.323\n",
      "style cost = 1884442.5\n",
      "Iteration 1320 :\n",
      "total cost = 175162240.0\n",
      "content cost = 11733.694\n",
      "style cost = 1751035.6\n",
      "Iteration 1340 :\n",
      "total cost = 172390270.0\n",
      "content cost = 11728.951\n",
      "style cost = 1723316.4\n",
      "Iteration 1360 :\n",
      "total cost = 248314380.0\n",
      "content cost = 11748.824\n",
      "style cost = 2482556.2\n",
      "Iteration 1380 :\n",
      "total cost = 173535780.0\n",
      "content cost = 11739.654\n",
      "style cost = 1734770.8\n",
      "Iteration 1400 :\n",
      "total cost = 162949820.0\n",
      "content cost = 11731.677\n",
      "style cost = 1628911.8\n",
      "Iteration 1420 :\n",
      "total cost = 171951950.0\n",
      "content cost = 11728.773\n",
      "style cost = 1718933.1\n",
      "Iteration 1440 :\n",
      "total cost = 149831410.0\n",
      "content cost = 11727.296\n",
      "style cost = 1497727.8\n",
      "Iteration 1460 :\n",
      "total cost = 850262500.0\n",
      "content cost = 11764.237\n",
      "style cost = 8502037.0\n",
      "Iteration 1480 :\n",
      "total cost = 47792087000.0\n",
      "content cost = 13826.315\n",
      "style cost = 477920160.0\n",
      "Iteration 1500 :\n",
      "total cost = 8150122000.0\n",
      "content cost = 13324.63\n",
      "style cost = 81500550.0\n",
      "Iteration 1520 :\n",
      "total cost = 1929845600.0\n",
      "content cost = 12735.966\n",
      "style cost = 19297820.0\n",
      "Iteration 1540 :\n",
      "total cost = 943480800.0\n",
      "content cost = 12533.884\n",
      "style cost = 9434182.0\n",
      "Iteration 1560 :\n",
      "total cost = 654577800.0\n",
      "content cost = 12421.234\n",
      "style cost = 6545157.0\n",
      "Iteration 1580 :\n",
      "total cost = 520558300.0\n",
      "content cost = 12352.993\n",
      "style cost = 5204965.5\n",
      "Iteration 1600 :\n",
      "total cost = 439144260.0\n",
      "content cost = 12303.346\n",
      "style cost = 4390827.5\n",
      "Iteration 1620 :\n",
      "total cost = 382841280.0\n",
      "content cost = 12266.645\n",
      "style cost = 3827799.2\n",
      "Iteration 1640 :\n",
      "total cost = 340780100.0\n",
      "content cost = 12238.224\n",
      "style cost = 3407189.0\n",
      "Iteration 1660 :\n",
      "total cost = 321871360.0\n",
      "content cost = 12214.6875\n",
      "style cost = 3218102.8\n",
      "Iteration 1680 :\n",
      "total cost = 283607260.0\n",
      "content cost = 12193.208\n",
      "style cost = 2835463.0\n",
      "Iteration 1700 :\n",
      "total cost = 259414640.0\n",
      "content cost = 12178.577\n",
      "style cost = 2593537.5\n",
      "Iteration 1720 :\n",
      "total cost = 251732300.0\n",
      "content cost = 12168.831\n",
      "style cost = 2516714.5\n",
      "Iteration 1740 :\n",
      "total cost = 224563620.0\n",
      "content cost = 12152.58\n",
      "style cost = 2245028.5\n",
      "Iteration 1760 :\n",
      "total cost = 213368130.0\n",
      "content cost = 12140.198\n",
      "style cost = 2133074.2\n",
      "Iteration 1780 :\n",
      "total cost = 200937150.0\n",
      "content cost = 12130.061\n",
      "style cost = 2008765.0\n",
      "Iteration 1800 :\n",
      "total cost = 187964030.0\n",
      "content cost = 12122.11\n",
      "style cost = 1879034.2\n",
      "Iteration 1820 :\n",
      "total cost = 179624460.0\n",
      "content cost = 12113.391\n",
      "style cost = 1795639.0\n",
      "Iteration 1840 :\n",
      "total cost = 213049360.0\n",
      "content cost = 12106.011\n",
      "style cost = 2129888.2\n",
      "Iteration 1860 :\n",
      "total cost = 164739360.0\n",
      "content cost = 12097.381\n",
      "style cost = 1646788.9\n",
      "Iteration 1880 :\n",
      "total cost = 162487310.0\n",
      "content cost = 12090.029\n",
      "style cost = 1624268.6\n",
      "Iteration 1900 :\n",
      "total cost = 149754370.0\n",
      "content cost = 12088.979\n",
      "style cost = 1496939.1\n",
      "Iteration 1920 :\n",
      "total cost = 144488370.0\n",
      "content cost = 12083.539\n",
      "style cost = 1444279.5\n",
      "Iteration 1940 :\n",
      "total cost = 293980030.0\n",
      "content cost = 12076.428\n",
      "style cost = 2939196.5\n",
      "Iteration 1960 :\n",
      "total cost = 463532000.0\n",
      "content cost = 12102.631\n",
      "style cost = 4634715.0\n",
      "Iteration 1980 :\n",
      "total cost = 186101620.0\n",
      "content cost = 12098.038\n",
      "style cost = 1860411.1\n",
      "Iteration 2000 :\n",
      "total cost = 138699040.0\n",
      "content cost = 12077.506\n",
      "style cost = 1386386.6\n",
      "Iteration 2020 :\n",
      "total cost = 127255830.0\n",
      "content cost = 12068.237\n",
      "style cost = 1271954.9\n",
      "Iteration 2040 :\n",
      "total cost = 184630610.0\n",
      "content cost = 12060.611\n",
      "style cost = 1845703.0\n",
      "Iteration 2060 :\n",
      "total cost = 127997530.0\n",
      "content cost = 12061.678\n",
      "style cost = 1279372.1\n",
      "Iteration 2080 :\n",
      "total cost = 112346370.0\n",
      "content cost = 12054.155\n",
      "style cost = 1122861.0\n",
      "Iteration 2100 :\n",
      "total cost = 106596710.0\n",
      "content cost = 12047.666\n",
      "style cost = 1065364.8\n",
      "Iteration 2120 :\n",
      "total cost = 108098150.0\n",
      "content cost = 12043.483\n",
      "style cost = 1080379.4\n",
      "Iteration 2140 :\n",
      "total cost = 133599150.0\n",
      "content cost = 12050.499\n",
      "style cost = 1335389.0\n",
      "Iteration 2160 :\n",
      "total cost = 104424240.0\n",
      "content cost = 12039.955\n",
      "style cost = 1043640.4\n",
      "Iteration 2180 :\n",
      "total cost = 100227570.0\n",
      "content cost = 12040.643\n",
      "style cost = 1001673.7\n",
      "Iteration 2200 :\n",
      "total cost = 91206184.0\n",
      "content cost = 12034.633\n",
      "style cost = 911460.06\n",
      "Iteration 2220 :\n",
      "total cost = 325383840.0\n",
      "content cost = 12035.092\n",
      "style cost = 3253236.8\n",
      "Iteration 2240 :\n",
      "total cost = 111177830.0\n",
      "content cost = 12040.8125\n",
      "style cost = 1111176.2\n",
      "Iteration 2260 :\n",
      "total cost = 91897496.0\n",
      "content cost = 12036.519\n",
      "style cost = 918373.1\n",
      "Iteration 2280 :\n",
      "total cost = 88334296.0\n",
      "content cost = 12029.323\n",
      "style cost = 882741.5\n",
      "Iteration 2300 :\n",
      "total cost = 137555600.0\n",
      "content cost = 12035.203\n",
      "style cost = 1374954.2\n",
      "Iteration 2320 :\n",
      "total cost = 85009976.0\n",
      "content cost = 12026.202\n",
      "style cost = 849498.5\n",
      "Iteration 2340 :\n",
      "total cost = 80268504.0\n",
      "content cost = 12023.355\n",
      "style cost = 802083.9\n",
      "Iteration 2360 :\n",
      "total cost = 77035860.0\n",
      "content cost = 12016.934\n",
      "style cost = 769757.7\n",
      "Iteration 2380 :\n",
      "total cost = 461424350.0\n",
      "content cost = 12001.86\n",
      "style cost = 4613643.5\n",
      "Iteration 2400 :\n",
      "total cost = 50102637000.0\n",
      "content cost = 12948.664\n",
      "style cost = 501025700.0\n",
      "Iteration 2420 :\n",
      "total cost = 7319871500.0\n",
      "content cost = 13301.317\n",
      "style cost = 73198050.0\n",
      "Iteration 2440 :\n",
      "total cost = 1330530000.0\n",
      "content cost = 12710.026\n",
      "style cost = 13304665.0\n",
      "Iteration 2460 :\n",
      "total cost = 622011200.0\n",
      "content cost = 12524.033\n",
      "style cost = 6219486.0\n",
      "Iteration 2480 :\n",
      "total cost = 429537470.0\n",
      "content cost = 12424.412\n",
      "style cost = 4294753.5\n",
      "Iteration 2500 :\n",
      "total cost = 381381760.0\n",
      "content cost = 12373.238\n",
      "style cost = 3813199.0\n",
      "Iteration 2520 :\n",
      "total cost = 294442050.0\n",
      "content cost = 12328.828\n",
      "style cost = 2943804.2\n",
      "Iteration 2540 :\n",
      "total cost = 255915360.0\n",
      "content cost = 12298.094\n",
      "style cost = 2558538.8\n",
      "Iteration 2560 :\n",
      "total cost = 228448130.0\n",
      "content cost = 12275.157\n",
      "style cost = 2283867.5\n",
      "Iteration 2580 :\n",
      "total cost = 212275870.0\n",
      "content cost = 12258.508\n",
      "style cost = 2122145.8\n",
      "Iteration 2600 :\n",
      "total cost = 188708480.0\n",
      "content cost = 12241.138\n",
      "style cost = 1886472.8\n",
      "Iteration 2620 :\n",
      "total cost = 175237090.0\n",
      "content cost = 12229.398\n",
      "style cost = 1751759.4\n",
      "Iteration 2640 :\n",
      "total cost = 222439220.0\n",
      "content cost = 12216.906\n",
      "style cost = 2223781.2\n",
      "Iteration 2660 :\n",
      "total cost = 153324800.0\n",
      "content cost = 12210.388\n",
      "style cost = 1532637.5\n",
      "Iteration 2680 :\n",
      "total cost = 142441260.0\n",
      "content cost = 12200.464\n",
      "style cost = 1423802.5\n",
      "Iteration 2700 :\n",
      "total cost = 152462610.0\n",
      "content cost = 12193.04\n",
      "style cost = 1524016.5\n",
      "Iteration 2720 :\n",
      "total cost = 134227890.0\n",
      "content cost = 12184.313\n",
      "style cost = 1341669.6\n",
      "Iteration 2740 :\n",
      "total cost = 118745530.0\n",
      "content cost = 12180.606\n",
      "style cost = 1186846.2\n",
      "Iteration 2760 :\n",
      "total cost = 124459310.0\n",
      "content cost = 12172.899\n",
      "style cost = 1243984.5\n",
      "Iteration 2780 :\n",
      "total cost = 107660980.0\n",
      "content cost = 12169.721\n",
      "style cost = 1076001.2\n",
      "Iteration 2800 :\n",
      "total cost = 101811310.0\n",
      "content cost = 12163.222\n",
      "style cost = 1017504.94\n",
      "Iteration 2820 :\n",
      "total cost = 123845784.0\n",
      "content cost = 12166.161\n",
      "style cost = 1237849.5\n",
      "Iteration 2840 :\n",
      "total cost = 99451000.0\n",
      "content cost = 12158.442\n",
      "style cost = 993902.06\n",
      "Iteration 2860 :\n",
      "total cost = 126414070.0\n",
      "content cost = 12152.015\n",
      "style cost = 1263533.1\n",
      "Iteration 2880 :\n",
      "total cost = 139258770.0\n",
      "content cost = 12148.821\n",
      "style cost = 1391980.1\n",
      "Iteration 2900 :\n",
      "total cost = 84309380.0\n",
      "content cost = 12144.969\n",
      "style cost = 842486.5\n",
      "Iteration 2920 :\n",
      "total cost = 100933384.0\n",
      "content cost = 12148.855\n",
      "style cost = 1008726.44\n",
      "Iteration 2940 :\n",
      "total cost = 2304974000.0\n",
      "content cost = 12329.64\n",
      "style cost = 23049124.0\n",
      "Iteration 2960 :\n",
      "total cost = 71689404000.0\n",
      "content cost = 12950.13\n",
      "style cost = 716893400.0\n",
      "Iteration 2980 :\n",
      "total cost = 6104301600.0\n",
      "content cost = 13392.057\n",
      "style cost = 61042344.0\n",
      "Iteration 3000 :\n",
      "total cost = 1223515500.0\n",
      "content cost = 12840.67\n",
      "style cost = 12234513.0\n",
      "Iteration 3020 :\n",
      "total cost = 596236700.0\n",
      "content cost = 12661.366\n",
      "style cost = 5961734.0\n",
      "Iteration 3040 :\n",
      "total cost = 418141540.0\n",
      "content cost = 12554.327\n",
      "style cost = 4180787.5\n",
      "Iteration 3060 :\n",
      "total cost = 337114850.0\n",
      "content cost = 12491.586\n",
      "style cost = 3370523.8\n",
      "Iteration 3080 :\n",
      "total cost = 287301250.0\n",
      "content cost = 12451.269\n",
      "style cost = 2872389.8\n",
      "Iteration 3100 :\n",
      "total cost = 251949970.0\n",
      "content cost = 12420.635\n",
      "style cost = 2518878.8\n",
      "Iteration 3120 :\n",
      "total cost = 224982600.0\n",
      "content cost = 12396.696\n",
      "style cost = 2249206.0\n",
      "Iteration 3140 :\n",
      "total cost = 208674140.0\n",
      "content cost = 12382.224\n",
      "style cost = 2086122.4\n",
      "Iteration 3160 :\n",
      "total cost = 188496560.0\n",
      "content cost = 12358.587\n",
      "style cost = 1884347.8\n",
      "Iteration 3180 :\n",
      "total cost = 171747140.0\n",
      "content cost = 12345.323\n",
      "style cost = 1716854.1\n",
      "Iteration 3200 :\n",
      "total cost = 158414830.0\n",
      "content cost = 12333.936\n",
      "style cost = 1583531.6\n",
      "Iteration 3220 :\n",
      "total cost = 148304350.0\n",
      "content cost = 12324.337\n",
      "style cost = 1482427.4\n",
      "Iteration 3240 :\n",
      "total cost = 139314850.0\n",
      "content cost = 12314.309\n",
      "style cost = 1392532.9\n",
      "Iteration 3260 :\n",
      "total cost = 129883100.0\n",
      "content cost = 12304.72\n",
      "style cost = 1298215.9\n",
      "Iteration 3280 :\n",
      "total cost = 121465150.0\n",
      "content cost = 12297.448\n",
      "style cost = 1214036.6\n",
      "Iteration 3300 :\n",
      "total cost = 126334200.0\n",
      "content cost = 12288.14\n",
      "style cost = 1262727.6\n",
      "Iteration 3320 :\n",
      "total cost = 118865090.0\n",
      "content cost = 12288.916\n",
      "style cost = 1188036.4\n",
      "Iteration 3340 :\n",
      "total cost = 106176264.0\n",
      "content cost = 12279.452\n",
      "style cost = 1061148.6\n",
      "Iteration 3360 :\n",
      "total cost = 98047816.0\n",
      "content cost = 12272.091\n",
      "style cost = 979864.56\n",
      "Iteration 3380 :\n",
      "total cost = 211009260.0\n",
      "content cost = 12277.373\n",
      "style cost = 2109478.8\n",
      "Iteration 3400 :\n",
      "total cost = 101403930.0\n",
      "content cost = 12270.983\n",
      "style cost = 1013425.75\n",
      "Iteration 3420 :\n",
      "total cost = 86332744.0\n",
      "content cost = 12261.653\n",
      "style cost = 862714.3\n",
      "Iteration 3440 :\n",
      "total cost = 82883624.0\n",
      "content cost = 12263.962\n",
      "style cost = 828223.06\n",
      "Iteration 3460 :\n",
      "total cost = 80742840.0\n",
      "content cost = 12256.214\n",
      "style cost = 806815.6\n",
      "Iteration 3480 :\n",
      "total cost = 75176024.0\n",
      "content cost = 12250.355\n",
      "style cost = 751147.75\n",
      "Iteration 3500 :\n",
      "total cost = 73834120.0\n",
      "content cost = 12245.151\n",
      "style cost = 737728.94\n",
      "Iteration 3520 :\n",
      "total cost = 75355656.0\n",
      "content cost = 12242.985\n",
      "style cost = 752944.44\n",
      "Iteration 3540 :\n",
      "total cost = 70550150.0\n",
      "content cost = 12239.296\n",
      "style cost = 704889.5\n",
      "Iteration 3560 :\n",
      "total cost = 65863076.0\n",
      "content cost = 12237.234\n",
      "style cost = 658018.9\n",
      "Iteration 3580 :\n",
      "total cost = 102112160.0\n",
      "content cost = 12233.194\n",
      "style cost = 1020509.94\n",
      "Iteration 3600 :\n",
      "total cost = 64047590.0\n",
      "content cost = 12234.717\n",
      "style cost = 639864.2\n",
      "Iteration 3620 :\n",
      "total cost = 57390290.0\n",
      "content cost = 12228.887\n",
      "style cost = 573291.44\n",
      "Iteration 3640 :\n",
      "total cost = 57185840.0\n",
      "content cost = 12226.53\n",
      "style cost = 571247.06\n",
      "Iteration 3660 :\n",
      "total cost = 250312770.0\n",
      "content cost = 12244.41\n",
      "style cost = 2502515.5\n",
      "Iteration 3680 :\n",
      "total cost = 5872919600.0\n",
      "content cost = 12581.574\n",
      "style cost = 58728570.0\n",
      "Iteration 3700 :\n",
      "total cost = 3604123000.0\n",
      "content cost = 12969.917\n",
      "style cost = 36040580.0\n",
      "Iteration 3720 :\n",
      "total cost = 730270140.0\n",
      "content cost = 12660.703\n",
      "style cost = 7302068.5\n",
      "Iteration 3740 :\n",
      "total cost = 324931140.0\n",
      "content cost = 12525.5\n",
      "style cost = 3248685.0\n",
      "Iteration 3760 :\n",
      "total cost = 230043980.0\n",
      "content cost = 12458.365\n",
      "style cost = 2299817.0\n",
      "Iteration 3780 :\n",
      "total cost = 201280130.0\n",
      "content cost = 12432.119\n",
      "style cost = 2012179.8\n",
      "Iteration 3800 :\n",
      "total cost = 162067400.0\n",
      "content cost = 12400.408\n",
      "style cost = 1620053.9\n",
      "Iteration 3820 :\n",
      "total cost = 141163650.0\n",
      "content cost = 12381.894\n",
      "style cost = 1411017.4\n",
      "Iteration 3840 :\n",
      "total cost = 129948420.0\n",
      "content cost = 12372.603\n",
      "style cost = 1298865.5\n",
      "Iteration 3860 :\n",
      "total cost = 119893896.0\n",
      "content cost = 12357.17\n",
      "style cost = 1198321.1\n",
      "Iteration 3880 :\n",
      "total cost = 117680210.0\n",
      "content cost = 12346.874\n",
      "style cost = 1176184.8\n",
      "Iteration 3900 :\n",
      "total cost = 106249930.0\n",
      "content cost = 12345.751\n",
      "style cost = 1061882.0\n",
      "Iteration 3920 :\n",
      "total cost = 94378296.0\n",
      "content cost = 12334.523\n",
      "style cost = 943166.25\n",
      "Iteration 3940 :\n",
      "total cost = 100465840.0\n",
      "content cost = 12334.244\n",
      "style cost = 1004041.7\n",
      "Iteration 3960 :\n",
      "total cost = 85060940.0\n",
      "content cost = 12323.183\n",
      "style cost = 849993.25\n",
      "Iteration 3980 :\n",
      "total cost = 76981710.0\n",
      "content cost = 12316.139\n",
      "style cost = 769201.25\n",
      "Iteration 4000 :\n",
      "total cost = 84965620.0\n",
      "content cost = 12309.305\n",
      "style cost = 849040.75\n",
      "Iteration 4020 :\n",
      "total cost = 341581060.0\n",
      "content cost = 12340.84\n",
      "style cost = 3415193.8\n",
      "Iteration 4040 :\n",
      "total cost = 87835944.0\n",
      "content cost = 12319.897\n",
      "style cost = 877743.44\n",
      "Iteration 4060 :\n",
      "total cost = 74046060.0\n",
      "content cost = 12308.253\n",
      "style cost = 739845.2\n",
      "Iteration 4080 :\n",
      "total cost = 61856144.0\n",
      "content cost = 12303.929\n",
      "style cost = 617946.25\n",
      "Iteration 4100 :\n",
      "total cost = 57911924.0\n",
      "content cost = 12298.383\n",
      "style cost = 578504.3\n",
      "Iteration 4120 :\n",
      "total cost = 128455040.0\n",
      "content cost = 12292.225\n",
      "style cost = 1283935.8\n",
      "Iteration 4140 :\n",
      "total cost = 75806400.0\n",
      "content cost = 12300.908\n",
      "style cost = 757448.94\n",
      "Iteration 4160 :\n",
      "total cost = 68697180.0\n",
      "content cost = 12296.451\n",
      "style cost = 686357.06\n",
      "Iteration 4180 :\n",
      "total cost = 50310696.0\n",
      "content cost = 12291.5205\n",
      "style cost = 502492.4\n",
      "Iteration 4200 :\n",
      "total cost = 50771790.0\n",
      "content cost = 12283.853\n",
      "style cost = 507103.72\n",
      "Iteration 4220 :\n",
      "total cost = 176698880.0\n",
      "content cost = 12308.159\n",
      "style cost = 1766373.4\n",
      "Iteration 4240 :\n",
      "total cost = 54235916.0\n",
      "content cost = 12293.834\n",
      "style cost = 541744.5\n",
      "Iteration 4260 :\n",
      "total cost = 43720560.0\n",
      "content cost = 12288.018\n",
      "style cost = 436591.2\n",
      "Iteration 4280 :\n",
      "total cost = 95220890.0\n",
      "content cost = 12282.512\n",
      "style cost = 951594.75\n",
      "Iteration 4300 :\n",
      "total cost = 42646120.0\n",
      "content cost = 12283.279\n",
      "style cost = 425847.03\n",
      "Iteration 4320 :\n",
      "total cost = 44719796.0\n",
      "content cost = 12281.034\n",
      "style cost = 446583.9\n",
      "Iteration 4340 :\n",
      "total cost = 43423850.0\n",
      "content cost = 12273.529\n",
      "style cost = 433624.8\n",
      "Iteration 4360 :\n",
      "total cost = 42691910.0\n",
      "content cost = 12278.4375\n",
      "style cost = 426305.2\n",
      "Iteration 4380 :\n",
      "total cost = 38173820.0\n",
      "content cost = 12272.233\n",
      "style cost = 381124.6\n",
      "Iteration 4400 :\n",
      "total cost = 240711200.0\n",
      "content cost = 12269.733\n",
      "style cost = 2406498.5\n",
      "Iteration 4420 :\n",
      "total cost = 4933455400.0\n",
      "content cost = 12435.31\n",
      "style cost = 49333936.0\n",
      "Iteration 4440 :\n",
      "total cost = 7507616300.0\n",
      "content cost = 13562.764\n",
      "style cost = 75075490.0\n",
      "Iteration 4460 :\n",
      "total cost = 1139305200.0\n",
      "content cost = 13061.769\n",
      "style cost = 11392399.0\n",
      "Iteration 4480 :\n",
      "total cost = 469872770.0\n",
      "content cost = 12834.484\n",
      "style cost = 4698086.0\n",
      "Iteration 4500 :\n",
      "total cost = 309674880.0\n",
      "content cost = 12724.594\n",
      "style cost = 3096112.5\n",
      "Iteration 4520 :\n",
      "total cost = 245538770.0\n",
      "content cost = 12659.251\n",
      "style cost = 2454754.8\n",
      "Iteration 4540 :\n",
      "total cost = 232339840.0\n",
      "content cost = 12634.898\n",
      "style cost = 2322766.8\n",
      "Iteration 4560 :\n",
      "total cost = 182714450.0\n",
      "content cost = 12597.391\n",
      "style cost = 1826514.5\n",
      "Iteration 4580 :\n",
      "total cost = 159131180.0\n",
      "content cost = 12572.1875\n",
      "style cost = 1590683.1\n",
      "Iteration 4600 :\n",
      "total cost = 142403140.0\n",
      "content cost = 12552.233\n",
      "style cost = 1423403.6\n",
      "Iteration 4620 :\n",
      "total cost = 151966780.0\n",
      "content cost = 12533.45\n",
      "style cost = 1519041.1\n",
      "Iteration 4640 :\n",
      "total cost = 168212510.0\n",
      "content cost = 12538.59\n",
      "style cost = 1681498.2\n",
      "Iteration 4660 :\n",
      "total cost = 111865096.0\n",
      "content cost = 12517.584\n",
      "style cost = 1118025.1\n",
      "Iteration 4680 :\n",
      "total cost = 102469490.0\n",
      "content cost = 12503.678\n",
      "style cost = 1024069.7\n",
      "Iteration 4700 :\n",
      "total cost = 94674090.0\n",
      "content cost = 12491.508\n",
      "style cost = 946116.3\n",
      "Iteration 4720 :\n",
      "total cost = 240840700.0\n",
      "content cost = 12487.479\n",
      "style cost = 2407782.8\n",
      "Iteration 4740 :\n",
      "total cost = 98078970.0\n",
      "content cost = 12489.828\n",
      "style cost = 980165.2\n",
      "Iteration 4760 :\n",
      "total cost = 81480296.0\n",
      "content cost = 12476.402\n",
      "style cost = 814179.1\n",
      "Iteration 4780 :\n",
      "total cost = 75432770.0\n",
      "content cost = 12465.579\n",
      "style cost = 753704.4\n",
      "Iteration 4800 :\n",
      "total cost = 93217544.0\n",
      "content cost = 12460.357\n",
      "style cost = 931552.4\n",
      "Iteration 4820 :\n",
      "total cost = 74014904.0\n",
      "content cost = 12453.183\n",
      "style cost = 739526.44\n",
      "Iteration 4840 :\n",
      "total cost = 63946620.0\n",
      "content cost = 12448.198\n",
      "style cost = 638843.8\n",
      "Iteration 4860 :\n",
      "total cost = 213509700.0\n",
      "content cost = 12461.888\n",
      "style cost = 2134474.0\n",
      "Iteration 4880 :\n",
      "total cost = 124664400.0\n",
      "content cost = 12444.288\n",
      "style cost = 1246021.8\n",
      "Iteration 4900 :\n",
      "total cost = 60728160.0\n",
      "content cost = 12441.464\n",
      "style cost = 606659.5\n",
      "Iteration 4920 :\n",
      "total cost = 53154070.0\n",
      "content cost = 12434.456\n",
      "style cost = 530919.0\n",
      "Iteration 4940 :\n",
      "total cost = 249082820.0\n",
      "content cost = 12458.107\n",
      "style cost = 2490205.2\n",
      "Iteration 4960 :\n",
      "total cost = 73455230.0\n",
      "content cost = 12441.289\n",
      "style cost = 733930.25\n",
      "Iteration 4980 :\n",
      "total cost = 50221356.0\n",
      "content cost = 12441.19\n",
      "style cost = 501591.5\n"
     ]
    },
    {
     "data": {
      "text/plain": [
       "array([[[[-1.57906590e+01,  3.88545012e+00,  1.37236643e+01],\n",
       "         [ 8.10376835e+00, -2.41073346e+00, -9.35320282e+00],\n",
       "         [-1.17527847e+01,  3.72657037e+00,  3.49514365e+00],\n",
       "         ...,\n",
       "         [-9.91632614e+01, -1.62809769e+02, -2.12836060e+02],\n",
       "         [-1.11646515e+02, -2.01459320e+02, -2.63058929e+02],\n",
       "         [-1.33632767e+02, -1.28589233e+02, -1.97956009e+02]],\n",
       "\n",
       "        [[ 2.13229403e-01,  7.58809566e+00,  3.37332678e+00],\n",
       "         [ 6.52263212e+00, -1.00332451e+00, -3.62537766e+00],\n",
       "         [ 5.88237715e+00, -9.13886547e+00, -2.73291707e+00],\n",
       "         ...,\n",
       "         [-1.25047279e+02, -1.13272354e+02, -1.23174530e+02],\n",
       "         [-6.26904221e+01, -1.30598434e+02, -1.14518318e+02],\n",
       "         [-6.89864426e+01, -1.97319824e+02, -2.66450958e+02]],\n",
       "\n",
       "        [[-5.87608337e+00,  6.65561676e-01,  8.80125809e+00],\n",
       "         [ 7.40927076e+00, -4.53202915e+00, -1.00277672e+01],\n",
       "         [-7.26072025e+00,  4.66062218e-01,  7.65620422e+00],\n",
       "         ...,\n",
       "         [-1.61514893e+02, -1.15456535e+02, -1.23000580e+02],\n",
       "         [-1.24811989e+02, -1.18196800e+02, -1.43397369e+02],\n",
       "         [-8.56387558e+01, -1.23336136e+02, -1.84407440e+02]],\n",
       "\n",
       "        ...,\n",
       "\n",
       "        [[-3.16907074e+02, -2.11686829e+02, -8.39516907e+01],\n",
       "         [-1.63960693e+02, -1.57957153e+02, -1.89930679e+02],\n",
       "         [-1.94361633e+02, -6.60570374e+01, -3.26444702e+02],\n",
       "         ...,\n",
       "         [-1.23191689e+02, -1.28238815e+02, -1.65607651e+02],\n",
       "         [-1.05063217e+02, -1.12027626e+02, -1.10724831e+02],\n",
       "         [-8.28160324e+01, -1.09846191e+02, -8.75872192e+01]],\n",
       "\n",
       "        [[-2.52166153e+02, -2.99366821e+02, -1.28449936e+02],\n",
       "         [-1.02472160e+02, -1.76903534e+02, -5.50711670e+01],\n",
       "         [-2.01312698e+02, -1.52874344e+02, -1.55556686e+02],\n",
       "         ...,\n",
       "         [-7.67692871e+01, -9.96304016e+01, -7.88597641e+01],\n",
       "         [-7.97460632e+01, -1.12985016e+02, -9.70200653e+01],\n",
       "         [-1.48200180e+02, -1.85685776e+02, -1.42290924e+02]],\n",
       "\n",
       "        [[-3.07445374e+02, -4.00883118e+02, -5.06009216e+01],\n",
       "         [-2.59458038e+02, -3.29464844e+02, -6.86976547e+01],\n",
       "         [-2.94441010e+02, -2.32543076e+02,  1.65345001e+01],\n",
       "         ...,\n",
       "         [-1.29131912e+02, -1.54003998e+02, -1.16398094e+02],\n",
       "         [-1.05313629e+02, -1.93330017e+02, -1.40803329e+02],\n",
       "         [-1.16864365e+02, -1.41649216e+02, -1.55832794e+02]]]],\n",
       "      dtype=float32)"
      ]
     },
     "execution_count": 34,
     "metadata": {
      "tags": []
     },
     "output_type": "execute_result"
    },
    {
     "data": {
      "image/png": "[encoded data removed]",
      "text/plain": [
       "<Figure size 432x288 with 1 Axes>"
      ]
     },
     "metadata": {
      "tags": []
     },
     "output_type": "display_data"
    }
   ],
   "source": [
    "model_nn(sess, generated_image)"
   ]
  },
  {
   "cell_type": "markdown",
   "metadata": {
    "colab_type": "text",
    "id": "raW_jkjrnJ2z"
   },
   "source": [
    "**Expected Output**:\n",
    "\n",
    "<table>\n",
    "    <tr>\n",
    "        <td>\n",
    "            **Iteration 0 : **\n",
    "        </td>\n",
    "        <td>\n",
    "           total cost = 5.05035e+09 <br>\n",
    "           content cost = 7877.67 <br>\n",
    "           style cost = 1.26257e+08\n",
    "        </td>\n",
    "    </tr>\n",
    "\n",
    "</table>"
   ]
  },
  {
   "cell_type": "markdown",
   "metadata": {
    "colab_type": "text",
    "id": "i2HqxZ7RnJ20"
   },
   "source": [
    "You're done! After running this, in the upper bar of the notebook click on \"File\" and then \"Open\". Go to the \"/output\" directory to see all the saved images. Open \"generated_image\" to see the generated image! :)\n",
    "\n",
    "You should see something the image presented below on the right:\n",
    "\n",
    "<img src=\"images/louvre_generated.png\" style=\"width:800px;height:300px;\">\n",
    "\n",
    "We didn't want you to wait too long to see an initial result, and so had set the hyperparameters accordingly. To get the best looking results, running the optimization algorithm longer (and perhaps with a smaller learning rate) might work better. After completing and submitting this assignment, we encourage you to come back and play more with this notebook, and see if you can generate even better looking images. "
   ]
  },
  {
   "cell_type": "markdown",
   "metadata": {
    "colab_type": "text",
    "id": "1R-LmdvbnJ21"
   },
   "source": [
    "Here are few other examples:\n",
    "\n",
    "- The beautiful ruins of the ancient city of Persepolis (Iran) with the style of Van Gogh (The Starry Night)\n",
    "<img src=\"images/perspolis_vangogh.png\" style=\"width:750px;height:300px;\">\n",
    "\n",
    "- The tomb of Cyrus the great in Pasargadae with the style of a Ceramic Kashi from Ispahan.\n",
    "<img src=\"images/pasargad_kashi.png\" style=\"width:750px;height:300px;\">\n",
    "\n",
    "- A scientific study of a turbulent fluid with the style of a abstract blue fluid painting.\n",
    "<img src=\"images/circle_abstract.png\" style=\"width:750px;height:300px;\">"
   ]
  },
  {
   "cell_type": "markdown",
   "metadata": {
    "colab_type": "text",
    "id": "M39DvyFznJ22"
   },
   "source": [
    "## 5 - Test with your own image (Optional/Ungraded)"
   ]
  },
  {
   "cell_type": "markdown",
   "metadata": {
    "colab_type": "text",
    "id": "OqK4Z08tnJ24"
   },
   "source": [
    "Finally, you can also rerun the algorithm on your own images! \n",
    "\n",
    "To do so, go back to part 4 and change the content image and style image with your own pictures. In detail, here's what you should do:\n",
    "\n",
    "1. Click on \"File -> Open\" in the upper tab of the notebook\n",
    "2. Go to \"/images\" and upload your images (requirement: (WIDTH = 300, HEIGHT = 225)), rename them \"my_content.png\" and \"my_style.png\" for example.\n",
    "3. Change the code in part (3.4) from :\n",
    "```python\n",
    "content_image = scipy.misc.imread(\"images/louvre.jpg\")\n",
    "style_image = scipy.misc.imread(\"images/claude-monet.jpg\")\n",
    "```\n",
    "to:\n",
    "```python\n",
    "content_image = scipy.misc.imread(\"images/my_content.jpg\")\n",
    "style_image = scipy.misc.imread(\"images/my_style.jpg\")\n",
    "```\n",
    "4. Rerun the cells (you may need to restart the Kernel in the upper tab of the notebook).\n",
    "\n",
    "You can also tune your hyperparameters: \n",
    "- Which layers are responsible for representing the style? STYLE_LAYERS\n",
    "- How many iterations do you want to run the algorithm? num_iterations\n",
    "- What is the relative weighting between content and style? alpha/beta"
   ]
  },
  {
   "cell_type": "markdown",
   "metadata": {
    "colab_type": "text",
    "id": "PCmpw5cOnJ25"
   },
   "source": [
    "## 6 - Conclusion\n",
    "\n",
    "Great job on completing this assignment! You are now able to use Neural Style Transfer to generate artistic images. This is also your first time building a model in which the optimization algorithm updates the pixel values rather than the neural network's parameters. Deep learning has many different types of models and this is only one of them! \n",
    "\n",
    "<font color='blue'>\n",
    "What you should remember:\n",
    "- Neural Style Transfer is an algorithm that given a content image C and a style image S can generate an artistic image\n",
    "- It uses representations (hidden layer activations) based on a pretrained ConvNet. \n",
    "- The content cost function is computed using one hidden layer's activations.\n",
    "- The style cost function for one layer is computed using the Gram matrix of that layer's activations. The overall style cost function is obtained using several hidden layers.\n",
    "- Optimizing the total cost function results in synthesizing new images. \n",
    "\n",
    "\n"
   ]
  },
  {
   "cell_type": "markdown",
   "metadata": {
    "colab_type": "text",
    "id": "y-lNsETinJ26"
   },
   "source": [
    "This was the final programming exercise of this course. Congratulations--you've finished all the programming exercises of this course on Convolutional Networks! We hope to also see you in Course 5, on Sequence models! \n"
   ]
  },
  {
   "cell_type": "markdown",
   "metadata": {
    "colab_type": "text",
    "collapsed": true,
    "id": "RJcZYvxlnJ27"
   },
   "source": [
    "### References:\n",
    "\n",
    "The Neural Style Transfer algorithm was due to Gatys et al. (2015). Harish Narayanan and Github user \"log0\" also have highly readable write-ups from which we drew inspiration. The pre-trained network used in this implementation is a VGG network, which is due to Simonyan and Zisserman (2015). Pre-trained weights were from the work of the MathConvNet team. \n",
    "\n",
    "- Leon A. Gatys, Alexander S. Ecker, Matthias Bethge, (2015). A Neural Algorithm of Artistic Style (https://arxiv.org/abs/1508.06576) \n",
    "- Harish Narayanan, Convolutional neural networks for artistic style transfer. https://harishnarayanan.org/writing/artistic-style-transfer/\n",
    "- Log0, TensorFlow Implementation of \"A Neural Algorithm of Artistic Style\". http://www.chioka.in/tensorflow-implementation-neural-algorithm-of-artistic-style\n",
    "- Karen Simonyan and Andrew Zisserman (2015). Very deep convolutional networks for large-scale image recognition (https://arxiv.org/pdf/1409.1556.pdf)\n",
    "- MatConvNet. http://www.vlfeat.org/matconvnet/pretrained/\n"
   ]
  },
  {
   "cell_type": "code",
   "execution_count": 0,
   "metadata": {
    "colab": {},
    "colab_type": "code",
    "id": "9Q87BXehbXM3"
   },
   "outputs": [],
   "source": [
    "#Delete Files in Google Colab\n",
    "!rm -rf '/content/output'"
   ]
  },
  {
   "cell_type": "code",
   "execution_count": 0,
   "metadata": {
    "colab": {},
    "colab_type": "code",
    "id": "gPkHXiIzbogA"
   },
   "outputs": [],
   "source": []
  }
 ],
 "metadata": {
  "accelerator": "GPU",
  "colab": {
   "collapsed_sections": [],
   "name": "Art+Generation+with+Neural+Style+Transfer+-+v2.ipynb",
   "provenance": [],
   "toc_visible": true,
   "version": "0.3.2"
  },
  "coursera": {
   "course_slug": "convolutional-neural-networks",
   "graded_item_id": "owWbQ",
   "launcher_item_id": "lEthw"
  },
  "kernelspec": {
   "display_name": "Python 3",
   "language": "python",
   "name": "python3"
  },
  "language_info": {
   "codemirror_mode": {
    "name": "ipython",
    "version": 3
   },
   "file_extension": ".py",
   "mimetype": "text/x-python",
   "name": "python",
   "nbconvert_exporter": "python",
   "pygments_lexer": "ipython3",
   "version": "3.7.3"
  }
 },
 "nbformat": 4,
 "nbformat_minor": 1
}
